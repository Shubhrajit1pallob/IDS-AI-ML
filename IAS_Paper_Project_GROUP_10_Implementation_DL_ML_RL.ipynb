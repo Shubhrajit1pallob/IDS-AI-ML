{
  "nbformat": 4,
  "nbformat_minor": 0,
  "metadata": {
    "colab": {
      "provenance": [],
      "collapsed_sections": [
        "PIbblEWuI1dO",
        "_ayOp62ZI1dP",
        "NEs4wmVcQc2s",
        "MPPxlRB5I1dQ",
        "Lxtq9flwI1dR",
        "aLo6lEw9I1dT",
        "3DS778Z8I1dU",
        "-cSmFDddOGcR"
      ]
    },
    "kernelspec": {
      "name": "python3",
      "display_name": "Python 3"
    },
    "language_info": {
      "name": "python"
    }
  },
  "cells": [
    {
      "cell_type": "markdown",
      "source": [
        "## Title: Intrusion Detection System Using ML and RL\n",
        "## Course Name: CSE 543 - Information Assurance and Security\n",
        "\n",
        "### Group: 10\n",
        "### Group Members:\n",
        "    \n",
        "\n",
        "1. Abhay Jogenipalli (1233204793)\n",
        "2. Kumar Hasti (1233389614)\n",
        "3. Kruthika Suresh (1233969895)\n",
        "4. Sakshi Sheth (1233820538)\n",
        "5. Rahul Tallam (1233313239)\n",
        "6. Rushir Bhavsar (1230672263)\n",
        "7. Subharajit Pallob (1232562203)\n",
        "8. Varshil Shah (1225739892)\n",
        "\n"
      ],
      "metadata": {
        "id": "2e0tAOJ6PCEQ"
      }
    },
    {
      "cell_type": "markdown",
      "source": [
        "# NOTE: Code Runtime ~ 7 Hours with GPU, 14 Hours with CPU. Data Loading is via Kaggle, Original Data hosted on Kaggle ~ 15 GB"
      ],
      "metadata": {
        "id": "l0Q6E6lMROG4"
      }
    },
    {
      "cell_type": "markdown",
      "source": [
        "## Data Handling"
      ],
      "metadata": {
        "id": "DHHFmj3YRKxC"
      }
    },
    {
      "cell_type": "markdown",
      "source": [
        "### Dataset Import:\n",
        "Whole Dataset has been Chunked for Ease on Memory Load and Training Times"
      ],
      "metadata": {
        "id": "6T_K2ybWI1dN"
      }
    },
    {
      "cell_type": "code",
      "source": [
        "# This Python 3 environment comes with many helpful analytics libraries installed\n",
        "# It is defined by the kaggle/python Docker image: https://github.com/kaggle/docker-python\n",
        "# For example, here's several helpful packages to load\n",
        "\n",
        "import numpy as np # linear algebra\n",
        "import pandas as pd # data processing, CSV file I/O (e.g. pd.read_csv)\n",
        "\n",
        "# Input data files are available in the read-only \"../input/\" directory\n",
        "# For example, running this (by clicking run or pressing Shift+Enter) will list all files under the input directory\n",
        "\n",
        "import os\n",
        "for dirname, _, filenames in os.walk('/kaggle/input'):\n",
        "    for filename in filenames:\n",
        "        print(os.path.join(dirname, filename))\n",
        "\n",
        "# You can write up to 20GB to the current directory (/kaggle/working/) that gets preserved as output when you create a version using \"Save & Run All\"\n",
        "# You can also write temporary files to /kaggle/temp/, but they won't be saved outside of the current session"
      ],
      "metadata": {
        "_uuid": "8f2839f25d086af736a60e9eeb907d3b93b6e0e5",
        "_cell_guid": "b1076dfc-b9ad-4769-8c92-a6c4dae69d19",
        "execution": {
          "iopub.status.busy": "2024-11-14T04:34:34.626416Z",
          "iopub.execute_input": "2024-11-14T04:34:34.626870Z",
          "iopub.status.idle": "2024-11-14T04:34:34.668086Z",
          "shell.execute_reply.started": "2024-11-14T04:34:34.626786Z",
          "shell.execute_reply": "2024-11-14T04:34:34.667200Z"
        },
        "trusted": true,
        "id": "2uh3SSWUI1dL",
        "outputId": "00e7ceb6-6c45-40ad-c305-e5388628e474"
      },
      "outputs": [
        {
          "name": "stdout",
          "text": "/kaggle/input/nfuqnidsv2-network-intrusion-detection-dataset/NF-UQ-NIDS-v2.csv\n",
          "output_type": "stream"
        }
      ],
      "execution_count": null
    },
    {
      "cell_type": "code",
      "source": [
        "# , usecols = ['IPV4_SRC_ADDR','L4_SRC_PORT','IPV4_DST_ADDR','L4_DST_PORT','PROTOCOL','L7_PROTO','IN_BYTES','IN_PKTS','OUT_BYTES','OUT_PKTS','TCP_FLAGS','CLIENT_TCP_FLAGS','SERVER_TCP_FLAGS','FLOW_DURATION_MILLISECONDS','DURATION_IN','MIN_TTL','MAX_TTL','LONGEST_FLOW_PKT','SHORTEST_FLOW_PKT','MIN_IP_PKT_LEN','MAX_IP_PKT_LEN','SRC_TO_DST_SECOND_BYTES','DST_TO_SRC_SECOND_BYTES','SRC_TO_DST_AVG_THROUGHPUT','DST_TO_SRC_AVG_THROUGHPUT','NUM_PKTS_UP_TO_128_BYTES','TCP_WIN_MAX_IN','TCP_WIN_MAX_OUT','ICMP_TYPE','ICMP_IPV4_TYPE','DNS_QUERY_ID','DNS_QUERY_TYPE','DNS_TTL_ANSWER','FTP_COMMAND_RET_CODE','Label','Attack']\n",
        "df = pd.read_csv('/kaggle/input/nfuqnidsv2-network-intrusion-detection-dataset/NF-UQ-NIDS-v2.csv',chunksize=1000000)"
      ],
      "metadata": {
        "execution": {
          "iopub.status.busy": "2024-11-14T04:50:09.079407Z",
          "iopub.execute_input": "2024-11-14T04:50:09.080083Z",
          "iopub.status.idle": "2024-11-14T04:50:09.095400Z",
          "shell.execute_reply.started": "2024-11-14T04:50:09.080047Z",
          "shell.execute_reply": "2024-11-14T04:50:09.094606Z"
        },
        "trusted": true,
        "id": "Ethpecw_I1dO"
      },
      "outputs": [],
      "execution_count": null
    },
    {
      "cell_type": "code",
      "source": [
        "df1 = pd.DataFrame(df.get_chunk(450000))"
      ],
      "metadata": {
        "execution": {
          "iopub.status.busy": "2024-11-14T04:50:09.447153Z",
          "iopub.execute_input": "2024-11-14T04:50:09.448088Z",
          "iopub.status.idle": "2024-11-14T04:50:09.877259Z",
          "shell.execute_reply.started": "2024-11-14T04:50:09.448049Z",
          "shell.execute_reply": "2024-11-14T04:50:09.876512Z"
        },
        "trusted": true,
        "id": "63OYWP26I1dO"
      },
      "outputs": [],
      "execution_count": null
    },
    {
      "cell_type": "markdown",
      "source": [
        "### Label Encoding for IP Addresses:\n",
        "Unique IP Address are identifiers for users in the network, hence this are required to be label encoded to retain uniqueness."
      ],
      "metadata": {
        "id": "PIbblEWuI1dO"
      }
    },
    {
      "cell_type": "code",
      "source": [
        "from sklearn.preprocessing import LabelEncoder\n",
        "LE = LabelEncoder()\n",
        "srcaddr= LE.fit_transform(df1['IPV4_SRC_ADDR'])\n",
        "df1['IPV4_SRC_ADDR'] = pd.Series(srcaddr)"
      ],
      "metadata": {
        "execution": {
          "iopub.status.busy": "2024-11-14T04:50:14.209403Z",
          "iopub.execute_input": "2024-11-14T04:50:14.210275Z",
          "iopub.status.idle": "2024-11-14T04:50:14.257806Z",
          "shell.execute_reply.started": "2024-11-14T04:50:14.210236Z",
          "shell.execute_reply": "2024-11-14T04:50:14.256782Z"
        },
        "trusted": true,
        "id": "gMyLP3UCI1dO"
      },
      "outputs": [],
      "execution_count": null
    },
    {
      "cell_type": "code",
      "source": [
        "dstaddr= LE.fit_transform(df1['IPV4_DST_ADDR'])\n",
        "df1['IPV4_DST_ADDR'] = pd.Series(dstaddr)"
      ],
      "metadata": {
        "execution": {
          "iopub.status.busy": "2024-11-14T04:50:14.501514Z",
          "iopub.execute_input": "2024-11-14T04:50:14.502273Z",
          "iopub.status.idle": "2024-11-14T04:50:14.545979Z",
          "shell.execute_reply.started": "2024-11-14T04:50:14.502235Z",
          "shell.execute_reply": "2024-11-14T04:50:14.545202Z"
        },
        "trusted": true,
        "id": "rX_4vY2kI1dO"
      },
      "outputs": [],
      "execution_count": null
    },
    {
      "cell_type": "markdown",
      "source": [
        "### Data Preprocessing:\n",
        "\n",
        "Basic Data processing involving column extraction and imputation for missing value handling."
      ],
      "metadata": {
        "id": "gsg0htDmI1dP"
      }
    },
    {
      "cell_type": "code",
      "source": [
        "from sklearn.metrics import accuracy_score"
      ],
      "metadata": {
        "id": "HuLLc1WVQEQQ"
      },
      "execution_count": null,
      "outputs": []
    },
    {
      "cell_type": "code",
      "source": [
        "X = df1.drop(['Attack','Label','Dataset'], axis=1)\n",
        "Y = df1[\"Label\"]"
      ],
      "metadata": {
        "execution": {
          "iopub.status.busy": "2024-11-14T04:50:16.945364Z",
          "iopub.execute_input": "2024-11-14T04:50:16.945790Z",
          "iopub.status.idle": "2024-11-14T04:50:16.976265Z",
          "shell.execute_reply.started": "2024-11-14T04:50:16.945756Z",
          "shell.execute_reply": "2024-11-14T04:50:16.975426Z"
        },
        "trusted": true,
        "id": "uNdwWKCmI1dP"
      },
      "outputs": [],
      "execution_count": null
    },
    {
      "cell_type": "code",
      "source": [
        "from sklearn.impute import SimpleImputer\n",
        "imputer = SimpleImputer(missing_values = np.nan, strategy = 'mean')\n",
        "\n",
        "X_object = X.select_dtypes(\"object\")\n",
        "X_int = X.select_dtypes(exclude = \"object\")\n",
        "\n",
        "X_columns = X_int.columns\n",
        "\n",
        "imputer.fit(X_int)\n",
        "X_int = imputer.transform(X_int)\n",
        "X_int = pd.DataFrame(X_int)\n",
        "X_int.columns = X_columns\n",
        "\n",
        "X_object = X_object.fillna(\"unknown\")\n",
        "X = X_object.join(X_int)"
      ],
      "metadata": {
        "execution": {
          "iopub.status.busy": "2024-11-14T04:50:20.405553Z",
          "iopub.execute_input": "2024-11-14T04:50:20.406497Z",
          "iopub.status.idle": "2024-11-14T04:50:20.507666Z",
          "shell.execute_reply.started": "2024-11-14T04:50:20.406451Z",
          "shell.execute_reply": "2024-11-14T04:50:20.506731Z"
        },
        "trusted": true,
        "id": "5xDIvCd_I1dP"
      },
      "outputs": [],
      "execution_count": null
    },
    {
      "cell_type": "code",
      "source": [
        "import numpy as np\n",
        "import matplotlib.pyplot as plt\n",
        "import pandas as pd\n",
        "import seaborn as sns"
      ],
      "metadata": {
        "execution": {
          "iopub.status.busy": "2024-11-14T04:50:23.081638Z",
          "iopub.execute_input": "2024-11-14T04:50:23.082375Z",
          "iopub.status.idle": "2024-11-14T04:50:23.237416Z",
          "shell.execute_reply.started": "2024-11-14T04:50:23.082336Z",
          "shell.execute_reply": "2024-11-14T04:50:23.236568Z"
        },
        "trusted": true,
        "id": "8hFsMCIJI1dP"
      },
      "outputs": [],
      "execution_count": null
    },
    {
      "cell_type": "markdown",
      "source": [
        "Correlation Map for Feature Engineering"
      ],
      "metadata": {
        "id": "JaIobJFlI1dP"
      }
    },
    {
      "cell_type": "code",
      "source": [
        "plt.figure(figsize = (20,20))\n",
        "cmap = sns.diverging_palette(500, 10, as_cmap=True)\n",
        "attrb_reln = sns.heatmap(X.corr(),linewidths=0.5, cmap=cmap)\n",
        "plt.savefig('correlations_dataset.jpg', dpi=1000)"
      ],
      "metadata": {
        "execution": {
          "iopub.status.busy": "2024-11-14T04:50:24.013573Z",
          "iopub.execute_input": "2024-11-14T04:50:24.013983Z",
          "iopub.status.idle": "2024-11-14T04:50:43.896360Z",
          "shell.execute_reply.started": "2024-11-14T04:50:24.013949Z",
          "shell.execute_reply": "2024-11-14T04:50:43.895564Z"
        },
        "trusted": true,
        "id": "Kl5RtxgOI1dP",
        "outputId": "553fce0d-6828-4a9f-9fc3-3fa3b6397aaf"
      },
      "outputs": [
        {
          "output_type": "display_data",
          "data": {
            "text/plain": "<Figure size 1440x1440 with 2 Axes>",
            "image/png": "[encoded data removed]"
          },
          "metadata": {
            "needs_background": "light"
          }
        }
      ],
      "execution_count": null
    },
    {
      "cell_type": "markdown",
      "source": [
        "## Machine Learning Suite"
      ],
      "metadata": {
        "id": "_ayOp62ZI1dP"
      }
    },
    {
      "cell_type": "markdown",
      "source": [
        "### Binary Classification - Anomaly Detection"
      ],
      "metadata": {
        "id": "NEs4wmVcQc2s"
      }
    },
    {
      "cell_type": "code",
      "source": [
        "from sklearn.model_selection import train_test_split\n",
        "X_train, X_test, y_train, y_test = train_test_split(X, Y, test_size=0.3, random_state=42)"
      ],
      "metadata": {
        "execution": {
          "iopub.status.busy": "2024-11-14T04:50:43.914496Z",
          "iopub.execute_input": "2024-11-14T04:50:43.914948Z",
          "iopub.status.idle": "2024-11-14T04:50:43.964576Z",
          "shell.execute_reply.started": "2024-11-14T04:50:43.914919Z",
          "shell.execute_reply": "2024-11-14T04:50:43.963777Z"
        },
        "trusted": true,
        "id": "ZguOiueNI1dP"
      },
      "outputs": [],
      "execution_count": null
    },
    {
      "cell_type": "code",
      "source": [
        "from sklearn.preprocessing import StandardScaler, MinMaxScaler\n",
        "scaler = MinMaxScaler()\n",
        "# store the columns\n",
        "cols = X_train.columns\n",
        "\n",
        "# transform the data\n",
        "X_train_scaled = scaler.fit_transform(X_train)\n",
        "X_test_scaled = scaler.transform(X_test)\n",
        "\n",
        "X_train_scaled = pd.DataFrame(X_train_scaled, columns = cols)\n",
        "X_test_scaled = pd.DataFrame(X_test_scaled, columns = cols)"
      ],
      "metadata": {
        "execution": {
          "iopub.status.busy": "2024-11-14T04:50:43.965688Z",
          "iopub.execute_input": "2024-11-14T04:50:43.966025Z",
          "iopub.status.idle": "2024-11-14T04:50:44.002079Z",
          "shell.execute_reply.started": "2024-11-14T04:50:43.965995Z",
          "shell.execute_reply": "2024-11-14T04:50:44.001347Z"
        },
        "trusted": true,
        "id": "GhJm5EtTI1dQ"
      },
      "outputs": [],
      "execution_count": null
    },
    {
      "cell_type": "code",
      "source": [
        "X_train_scaled.columns"
      ],
      "metadata": {
        "execution": {
          "iopub.status.busy": "2024-11-14T04:50:44.003048Z",
          "iopub.execute_input": "2024-11-14T04:50:44.003380Z",
          "iopub.status.idle": "2024-11-14T04:50:44.009857Z",
          "shell.execute_reply.started": "2024-11-14T04:50:44.003351Z",
          "shell.execute_reply": "2024-11-14T04:50:44.008979Z"
        },
        "trusted": true,
        "id": "s6NQkiBaI1dQ",
        "outputId": "1ae20574-3746-476b-f947-90ebe54c556f"
      },
      "outputs": [
        {
          "execution_count": 50,
          "output_type": "execute_result",
          "data": {
            "text/plain": "Index(['IPV4_SRC_ADDR', 'L4_SRC_PORT', 'IPV4_DST_ADDR', 'L4_DST_PORT',\n       'PROTOCOL', 'L7_PROTO', 'IN_BYTES', 'IN_PKTS', 'OUT_BYTES', 'OUT_PKTS',\n       'TCP_FLAGS', 'CLIENT_TCP_FLAGS', 'SERVER_TCP_FLAGS',\n       'FLOW_DURATION_MILLISECONDS', 'DURATION_IN', 'DURATION_OUT', 'MIN_TTL',\n       'MAX_TTL', 'LONGEST_FLOW_PKT', 'SHORTEST_FLOW_PKT', 'MIN_IP_PKT_LEN',\n       'MAX_IP_PKT_LEN', 'SRC_TO_DST_SECOND_BYTES', 'DST_TO_SRC_SECOND_BYTES',\n       'RETRANSMITTED_IN_BYTES', 'RETRANSMITTED_IN_PKTS',\n       'RETRANSMITTED_OUT_BYTES', 'RETRANSMITTED_OUT_PKTS',\n       'SRC_TO_DST_AVG_THROUGHPUT', 'DST_TO_SRC_AVG_THROUGHPUT',\n       'NUM_PKTS_UP_TO_128_BYTES', 'NUM_PKTS_128_TO_256_BYTES',\n       'NUM_PKTS_256_TO_512_BYTES', 'NUM_PKTS_512_TO_1024_BYTES',\n       'NUM_PKTS_1024_TO_1514_BYTES', 'TCP_WIN_MAX_IN', 'TCP_WIN_MAX_OUT',\n       'ICMP_TYPE', 'ICMP_IPV4_TYPE', 'DNS_QUERY_ID', 'DNS_QUERY_TYPE',\n       'DNS_TTL_ANSWER', 'FTP_COMMAND_RET_CODE'],\n      dtype='object')"
          },
          "metadata": {}
        }
      ],
      "execution_count": null
    },
    {
      "cell_type": "code",
      "source": [
        "from sklearn.ensemble import RandomForestClassifier"
      ],
      "metadata": {
        "execution": {
          "iopub.status.busy": "2024-11-14T04:50:47.892008Z",
          "iopub.execute_input": "2024-11-14T04:50:47.892970Z",
          "iopub.status.idle": "2024-11-14T04:50:47.897954Z",
          "shell.execute_reply.started": "2024-11-14T04:50:47.892930Z",
          "shell.execute_reply": "2024-11-14T04:50:47.896990Z"
        },
        "trusted": true,
        "id": "WGrnuvHyI1dQ"
      },
      "outputs": [],
      "execution_count": null
    },
    {
      "cell_type": "code",
      "source": [
        "rfc = RandomForestClassifier();\n",
        "\n",
        "rfc.fit(X_train_scaled, y_train)\n",
        "\n",
        "feature_imp = pd.DataFrame({'Importance':rfc.feature_importances_,'feature':X_train.columns})\n",
        "feature_imp = feature_imp.sort_values('Importance',ascending=False).set_index('feature')\n",
        "print(f\"Feature Importance: {feature_imp}\")"
      ],
      "metadata": {
        "execution": {
          "iopub.status.busy": "2024-11-14T00:57:33.935092Z",
          "iopub.execute_input": "2024-11-14T00:57:33.935625Z",
          "iopub.status.idle": "2024-11-14T00:57:50.605473Z",
          "shell.execute_reply.started": "2024-11-14T00:57:33.935587Z",
          "shell.execute_reply": "2024-11-14T00:57:50.604581Z"
        },
        "trusted": true,
        "id": "kDs_18BfI1dQ",
        "outputId": "cd7874dd-e14a-4a8f-d7c3-53176b714f26"
      },
      "outputs": [
        {
          "name": "stdout",
          "text": "Feature Importance:                                Importance\nfeature                                  \nIPV4_DST_ADDR                2.137070e-01\nFLOW_DURATION_MILLISECONDS   1.009410e-01\nIPV4_SRC_ADDR                7.400725e-02\nDURATION_IN                  7.053421e-02\nDST_TO_SRC_AVG_THROUGHPUT    6.592767e-02\nL4_DST_PORT                  6.108245e-02\nL7_PROTO                     5.020622e-02\nMAX_TTL                      3.514485e-02\nMAX_IP_PKT_LEN               3.357012e-02\nLONGEST_FLOW_PKT             2.990801e-02\nMIN_TTL                      2.907609e-02\nDNS_TTL_ANSWER               2.469453e-02\nSRC_TO_DST_AVG_THROUGHPUT    2.342975e-02\nTCP_WIN_MAX_IN               2.219047e-02\nMIN_IP_PKT_LEN               2.037975e-02\nOUT_BYTES                    1.959897e-02\nIN_BYTES                     1.435071e-02\nIN_PKTS                      1.422134e-02\nL4_SRC_PORT                  1.374034e-02\nSHORTEST_FLOW_PKT            1.290148e-02\nOUT_PKTS                     9.989482e-03\nNUM_PKTS_UP_TO_128_BYTES     9.154935e-03\nTCP_FLAGS                    7.254772e-03\nNUM_PKTS_128_TO_256_BYTES    6.668440e-03\nDNS_QUERY_TYPE               6.212564e-03\nCLIENT_TCP_FLAGS             5.771866e-03\nTCP_WIN_MAX_OUT              5.158356e-03\nSERVER_TCP_FLAGS             4.564634e-03\nDURATION_OUT                 3.439209e-03\nPROTOCOL                     2.546791e-03\nICMP_IPV4_TYPE               1.685398e-03\nDNS_QUERY_ID                 1.365679e-03\nRETRANSMITTED_OUT_PKTS       1.243376e-03\nRETRANSMITTED_IN_BYTES       1.052227e-03\nNUM_PKTS_512_TO_1024_BYTES   8.489208e-04\nICMP_TYPE                    8.014704e-04\nNUM_PKTS_256_TO_512_BYTES    7.212677e-04\nRETRANSMITTED_IN_PKTS        6.534035e-04\nRETRANSMITTED_OUT_BYTES      6.179928e-04\nNUM_PKTS_1024_TO_1514_BYTES  5.615095e-04\nFTP_COMMAND_RET_CODE         7.418270e-05\nSRC_TO_DST_SECOND_BYTES      6.884091e-07\nDST_TO_SRC_SECOND_BYTES      6.417982e-07\n",
          "output_type": "stream"
        }
      ],
      "execution_count": null
    },
    {
      "cell_type": "code",
      "source": [
        "from sklearn.feature_selection import RFE\n",
        "estimator = RandomForestClassifier()\n",
        "selector = RFE(estimator, verbose=1)\n",
        "selector.fit(X_train_scaled, y_train)\n",
        "\n",
        "X_train_scaled = selector.transform(X_train_scaled)\n",
        "X_test_scaled = selector.transform(X_test_scaled)"
      ],
      "metadata": {
        "execution": {
          "iopub.status.busy": "2024-11-14T00:57:50.607577Z",
          "iopub.execute_input": "2024-11-14T00:57:50.608205Z",
          "iopub.status.idle": "2024-11-14T01:04:31.619868Z",
          "shell.execute_reply.started": "2024-11-14T00:57:50.608164Z",
          "shell.execute_reply": "2024-11-14T01:04:31.619042Z"
        },
        "trusted": true,
        "id": "CeA1COBgI1dQ",
        "outputId": "cf0b8aee-ec71-41dd-d29e-fee819e3e17e"
      },
      "outputs": [
        {
          "name": "stdout",
          "text": "Fitting estimator with 43 features.\nFitting estimator with 42 features.\nFitting estimator with 41 features.\nFitting estimator with 40 features.\nFitting estimator with 39 features.\nFitting estimator with 38 features.\nFitting estimator with 37 features.\nFitting estimator with 36 features.\nFitting estimator with 35 features.\nFitting estimator with 34 features.\nFitting estimator with 33 features.\nFitting estimator with 32 features.\nFitting estimator with 31 features.\nFitting estimator with 30 features.\nFitting estimator with 29 features.\nFitting estimator with 28 features.\nFitting estimator with 27 features.\nFitting estimator with 26 features.\nFitting estimator with 25 features.\nFitting estimator with 24 features.\nFitting estimator with 23 features.\nFitting estimator with 22 features.\n",
          "output_type": "stream"
        }
      ],
      "execution_count": null
    },
    {
      "cell_type": "code",
      "source": [
        "from sklearn import datasets, metrics, tree, svm, neighbors\n",
        "from sklearn.model_selection import KFold\n",
        "from sklearn.model_selection import cross_val_score\n",
        "from sklearn.model_selection import RepeatedStratifiedKFold\n",
        "from sklearn.model_selection import cross_validate\n",
        "from sklearn.model_selection import train_test_split, GridSearchCV, learning_curve, ShuffleSplit\n",
        "from sklearn.tree import DecisionTreeClassifier\n",
        "\n",
        "from sklearn.naive_bayes import GaussianNB, BernoulliNB, MultinomialNB\n",
        "from sklearn.neighbors import RadiusNeighborsClassifier\n",
        "from sklearn.neighbors import NearestCentroid\n",
        "\n",
        "from sklearn.ensemble import RandomForestClassifier\n",
        "from sklearn.ensemble import GradientBoostingClassifier"
      ],
      "metadata": {
        "execution": {
          "iopub.status.busy": "2024-11-14T04:36:34.072831Z",
          "iopub.execute_input": "2024-11-14T04:36:34.073722Z",
          "iopub.status.idle": "2024-11-14T04:36:34.217630Z",
          "shell.execute_reply.started": "2024-11-14T04:36:34.073678Z",
          "shell.execute_reply": "2024-11-14T04:36:34.216845Z"
        },
        "trusted": true,
        "id": "iHmwq67wI1dQ"
      },
      "outputs": [],
      "execution_count": null
    },
    {
      "cell_type": "code",
      "source": [
        "SEED = 42\n",
        "\n",
        "# Decision Tree Model\n",
        "print(\"Loading DT Classifier\")\n",
        "dtc = DecisionTreeClassifier()\n",
        "\n",
        "# SVC MODEL\n",
        "from sklearn.svm import SVC\n",
        "print(\"Loading SVC Classifier\")\n",
        "svc = SVC(random_state = SEED)\n",
        "\n",
        "# LOGISTIC REGRESSION MODEL\n",
        "from sklearn.linear_model import LogisticRegression\n",
        "print(\"Loading LR Classifier\")\n",
        "lr = LogisticRegression()\n",
        "\n",
        "# GAUSSIAN NAIVE BAYES\n",
        "print(\"Loading Gaussian NB Classifier\")\n",
        "gnb = GaussianNB()\n",
        "\n",
        "# BERNOULLI NAIVE BAYES\n",
        "print(\"Loading Bernoulli NB Classifier\")\n",
        "bnb = BernoulliNB()\n",
        "\n",
        "# Train RandomForestClassifier\n",
        "print(\"Loading RFC Classifier\")\n",
        "rfe = RandomForestClassifier(max_depth=6)\n",
        "\n",
        "# Train XGBOOST Classifier\n",
        "from xgboost import XGBClassifier\n",
        "print(\"Loading XGB Classifier\")\n",
        "xgbc = XGBClassifier(eval_metric=\"logloss\", random_state=SEED)\n",
        "\n",
        "# Train LightGBM Classifier\n",
        "from lightgbm import LGBMClassifier\n",
        "print(\"Loading the LGBM Classifier\")\n",
        "lgbmc = LGBMClassifier(random_state=SEED)\n",
        "\n",
        "# Train Gradient-Boosting Classifier\n",
        "print(\"Loading the GB Classifier\")\n",
        "grb = GradientBoostingClassifier(learning_rate=1.1)"
      ],
      "metadata": {
        "execution": {
          "iopub.status.busy": "2024-11-14T01:04:31.681819Z",
          "iopub.execute_input": "2024-11-14T01:04:31.682097Z",
          "iopub.status.idle": "2024-11-14T01:04:33.711421Z",
          "shell.execute_reply.started": "2024-11-14T01:04:31.682071Z",
          "shell.execute_reply": "2024-11-14T01:04:33.710581Z"
        },
        "trusted": true,
        "id": "Oyli-66rI1dQ",
        "outputId": "3932f8b9-2333-4a4b-c6a9-ad5c8239229d"
      },
      "outputs": [
        {
          "name": "stdout",
          "text": "Loading DT Classifier\nLoading SVC Classifier\nLoading LR Classifier\nLoading Gaussian NB Classifier\nLoading Bernoulli NB Classifier\nLoading RFC Classifier\nLoading XGB Classifier\n",
          "output_type": "stream"
        },
        {
          "output_type": "display_data",
          "data": {
            "text/plain": "<IPython.core.display.HTML object>",
            "text/html": "<style type='text/css'>\n.datatable table.frame { margin-bottom: 0; }\n.datatable table.frame thead { border-bottom: none; }\n.datatable table.frame tr.coltypes td {  color: #FFFFFF;  line-height: 6px;  padding: 0 0.5em;}\n.datatable .bool    { background: #DDDD99; }\n.datatable .object  { background: #565656; }\n.datatable .int     { background: #5D9E5D; }\n.datatable .float   { background: #4040CC; }\n.datatable .str     { background: #CC4040; }\n.datatable .time    { background: #40CC40; }\n.datatable .row_index {  background: var(--jp-border-color3);  border-right: 1px solid var(--jp-border-color0);  color: var(--jp-ui-font-color3);  font-size: 9px;}\n.datatable .frame tbody td { text-align: left; }\n.datatable .frame tr.coltypes .row_index {  background: var(--jp-border-color0);}\n.datatable th:nth-child(2) { padding-left: 12px; }\n.datatable .hellipsis {  color: var(--jp-cell-editor-border-color);}\n.datatable .vellipsis {  background: var(--jp-layout-color0);  color: var(--jp-cell-editor-border-color);}\n.datatable .na {  color: var(--jp-cell-editor-border-color);  font-size: 80%;}\n.datatable .sp {  opacity: 0.25;}\n.datatable .footer { font-size: 9px; }\n.datatable .frame_dimensions {  background: var(--jp-border-color3);  border-top: 1px solid var(--jp-border-color0);  color: var(--jp-ui-font-color3);  display: inline-block;  opacity: 0.6;  padding: 1px 10px 1px 5px;}\n</style>\n"
          },
          "metadata": {}
        },
        {
          "name": "stdout",
          "text": "Loading the LGBM Classifier\nLoading the GB Classifier\n",
          "output_type": "stream"
        }
      ],
      "execution_count": null
    },
    {
      "cell_type": "markdown",
      "source": [
        "### Cross Validation based Binary Classification"
      ],
      "metadata": {
        "execution": {
          "iopub.status.busy": "2024-10-31T00:45:32.923759Z",
          "iopub.execute_input": "2024-10-31T00:45:32.924164Z",
          "iopub.status.idle": "2024-10-31T00:45:32.928193Z",
          "shell.execute_reply.started": "2024-10-31T00:45:32.924134Z",
          "shell.execute_reply": "2024-10-31T00:45:32.927279Z"
        },
        "id": "MPPxlRB5I1dQ"
      }
    },
    {
      "cell_type": "code",
      "source": [
        "from sklearn.model_selection import cross_val_score\n",
        "models_cvs = {}\n",
        "models_cvs['SVC']= svc\n",
        "models_cvs['LogisticRegression']= lr\n",
        "models_cvs['DecisionTreeClassifier']= dtc\n",
        "models_cvs['Gaussian Naive Bayes Classifier']= gnb\n",
        "models_cvs['Bernoulli Naive Bayes Classifier']= bnb\n",
        "models_cvs['Gradient Boosting Classifier']= grb\n",
        "models_cvs['Random Forest Classifier']= rfe\n",
        "models_cvs['XGBoost Classifier']= xgbc\n",
        "models_cvs['LightGBM Classifier']= lgbmc\n",
        "scores = {}\n",
        "for name in models_cvs:\n",
        "    print(f\"Cross Validating Model: {name}\")\n",
        "    scores[name]={}\n",
        "    for scorer in ['precision','recall','accuracy']:\n",
        "        scores[name][scorer] = cross_val_score(models_cvs[name], X_train_scaled, y_train, cv=3, scoring=scorer, n_jobs=-1)"
      ],
      "metadata": {
        "execution": {
          "iopub.status.busy": "2024-11-14T01:15:12.657965Z",
          "iopub.execute_input": "2024-11-14T01:15:12.658715Z",
          "iopub.status.idle": "2024-11-14T01:26:45.185491Z",
          "shell.execute_reply.started": "2024-11-14T01:15:12.658676Z",
          "shell.execute_reply": "2024-11-14T01:26:45.184480Z"
        },
        "trusted": true,
        "id": "IqzblbJEI1dQ",
        "outputId": "08809e13-54d9-44b4-bd55-b7e9bb45cb27"
      },
      "outputs": [
        {
          "name": "stdout",
          "text": "Cross Validating Model: SVC\nCross Validating Model: LogisticRegression\nCross Validating Model: DecisionTreeClassifier\nCross Validating Model: Gaussian Naive Bayes Classifier\nCross Validating Model: Bernoulli Naive Bayes Classifier\nCross Validating Model: Gradient Boosting Classifier\nCross Validating Model: Random Forest Classifier\nCross Validating Model: XGBoost Classifier\nCross Validating Model: LightGBM Classifier\n",
          "output_type": "stream"
        }
      ],
      "execution_count": null
    },
    {
      "cell_type": "code",
      "source": [
        "def line(name):\n",
        "  return '*'*(25-len(name)//2)\n",
        "\n",
        "for name in models_cvs:\n",
        "  print(line(name), name, 'Model Validation', line(name))\n",
        "\n",
        "  for scorer in ['precision','recall','accuracy']:\n",
        "    mean = round(np.mean(scores[name][scorer])*100,2)\n",
        "    stdev = round(np.std(scores[name][scorer])*100,2)\n",
        "    print (\"Mean {}:\".format(scorer),\"\\n\", mean,\"%\", \"+-\",stdev)\n",
        "    print()"
      ],
      "metadata": {
        "execution": {
          "iopub.status.busy": "2024-11-14T01:32:07.877148Z",
          "iopub.execute_input": "2024-11-14T01:32:07.877870Z",
          "iopub.status.idle": "2024-11-14T01:32:07.888658Z",
          "shell.execute_reply.started": "2024-11-14T01:32:07.877832Z",
          "shell.execute_reply": "2024-11-14T01:32:07.887797Z"
        },
        "trusted": true,
        "id": "w9_TZzK3I1dQ",
        "outputId": "366d51d8-3159-4e47-c7f4-fe8ab6f4f148"
      },
      "outputs": [
        {
          "name": "stdout",
          "text": "************************ SVC Model Validation ************************\nMean precision: \n 94.78 % +- 0.17\n\nMean recall: \n 97.96 % +- 0.08\n\nMean accuracy: \n 95.02 % +- 0.07\n\n**************** LogisticRegression Model Validation ****************\nMean precision: \n 92.43 % +- 0.26\n\nMean recall: \n 88.27 % +- 0.45\n\nMean accuracy: \n 87.28 % +- 0.32\n\n************** DecisionTreeClassifier Model Validation **************\nMean precision: \n 99.59 % +- 0.0\n\nMean recall: \n 99.62 % +- 0.04\n\nMean accuracy: \n 99.46 % +- 0.03\n\n********** Gaussian Naive Bayes Classifier Model Validation **********\nMean precision: \n 87.91 % +- 0.35\n\nMean recall: \n 96.93 % +- 0.35\n\nMean accuracy: \n 88.99 % +- 0.09\n\n********* Bernoulli Naive Bayes Classifier Model Validation *********\nMean precision: \n 95.77 % +- 0.08\n\nMean recall: \n 79.76 % +- 0.09\n\nMean accuracy: \n 84.06 % +- 0.11\n\n*********** Gradient Boosting Classifier Model Validation ***********\nMean precision: \n 99.52 % +- 0.03\n\nMean recall: \n 99.52 % +- 0.07\n\nMean accuracy: \n 99.35 % +- 0.04\n\n************* Random Forest Classifier Model Validation *************\nMean precision: \n 99.25 % +- 0.05\n\nMean recall: \n 99.12 % +- 0.08\n\nMean accuracy: \n 98.92 % +- 0.03\n\n**************** XGBoost Classifier Model Validation ****************\nMean precision: \n 99.7 % +- 0.04\n\nMean recall: \n 99.73 % +- 0.02\n\nMean accuracy: \n 99.61 % +- 0.02\n\n**************** LightGBM Classifier Model Validation ****************\nMean precision: \n 99.68 % +- 0.03\n\nMean recall: \n 99.7 % +- 0.03\n\nMean accuracy: \n 99.58 % +- 0.03\n\n",
          "output_type": "stream"
        }
      ],
      "execution_count": null
    },
    {
      "cell_type": "markdown",
      "source": [
        "### Multi-Class Intrusion type detection :\n",
        "\n",
        "Intrusion type detection for attack type increases system complexity"
      ],
      "metadata": {
        "id": "Lxtq9flwI1dR"
      }
    },
    {
      "cell_type": "code",
      "source": [
        "from sklearn.metrics import accuracy_score, precision_score, recall_score"
      ],
      "metadata": {
        "execution": {
          "iopub.status.busy": "2024-11-14T04:51:11.076414Z",
          "iopub.execute_input": "2024-11-14T04:51:11.076813Z",
          "iopub.status.idle": "2024-11-14T04:51:11.081203Z",
          "shell.execute_reply.started": "2024-11-14T04:51:11.076779Z",
          "shell.execute_reply": "2024-11-14T04:51:11.080268Z"
        },
        "trusted": true,
        "id": "aAsrXx-vI1dS"
      },
      "outputs": [],
      "execution_count": null
    },
    {
      "cell_type": "code",
      "source": [
        "X1 = df1.drop(['Attack','Label','Dataset'], axis=1)\n",
        "Y1 = df1[\"Attack\"]"
      ],
      "metadata": {
        "execution": {
          "iopub.status.busy": "2024-11-14T04:51:14.970769Z",
          "iopub.execute_input": "2024-11-14T04:51:14.971651Z",
          "iopub.status.idle": "2024-11-14T04:51:14.987425Z",
          "shell.execute_reply.started": "2024-11-14T04:51:14.971614Z",
          "shell.execute_reply": "2024-11-14T04:51:14.986540Z"
        },
        "trusted": true,
        "id": "YfLNtnycI1dS"
      },
      "outputs": [],
      "execution_count": null
    },
    {
      "cell_type": "code",
      "source": [
        "LE = LabelEncoder()\n",
        "multilbl = LE.fit_transform(Y1)\n",
        "Y1 = pd.Series(multilbl)"
      ],
      "metadata": {
        "execution": {
          "iopub.status.busy": "2024-11-14T04:51:16.290983Z",
          "iopub.execute_input": "2024-11-14T04:51:16.291870Z",
          "iopub.status.idle": "2024-11-14T04:51:16.327974Z",
          "shell.execute_reply.started": "2024-11-14T04:51:16.291832Z",
          "shell.execute_reply": "2024-11-14T04:51:16.326947Z"
        },
        "trusted": true,
        "id": "v_svGli0I1dS"
      },
      "outputs": [],
      "execution_count": null
    },
    {
      "cell_type": "code",
      "source": [
        "from sklearn.impute import SimpleImputer\n",
        "imputer = SimpleImputer(missing_values = np.nan, strategy = 'mean')\n",
        "\n",
        "X1_object = X1.select_dtypes(\"object\")\n",
        "X1_int = X1.select_dtypes(exclude = \"object\")\n",
        "\n",
        "X1_columns = X1_int.columns\n",
        "\n",
        "imputer.fit(X1_int)\n",
        "X1_int = imputer.transform(X1_int)\n",
        "X1_int = pd.DataFrame(X1_int)\n",
        "X1_int.columns = X1_columns\n",
        "\n",
        "X1_object = X1_object.fillna(\"unknown\")\n",
        "X1 = X1_object.join(X1_int)"
      ],
      "metadata": {
        "execution": {
          "iopub.status.busy": "2024-11-14T04:51:19.534874Z",
          "iopub.execute_input": "2024-11-14T04:51:19.535283Z",
          "iopub.status.idle": "2024-11-14T04:51:19.653744Z",
          "shell.execute_reply.started": "2024-11-14T04:51:19.535249Z",
          "shell.execute_reply": "2024-11-14T04:51:19.652820Z"
        },
        "trusted": true,
        "id": "rDm2sFDpI1dS"
      },
      "outputs": [],
      "execution_count": null
    },
    {
      "cell_type": "code",
      "source": [
        "from sklearn.model_selection import train_test_split\n",
        "X_train_1, X_test_1, y_train_1, y_test_1 = train_test_split(X1, Y1, test_size=0.3, random_state=42)"
      ],
      "metadata": {
        "execution": {
          "iopub.status.busy": "2024-11-14T04:51:20.910740Z",
          "iopub.execute_input": "2024-11-14T04:51:20.911451Z",
          "iopub.status.idle": "2024-11-14T04:51:20.951621Z",
          "shell.execute_reply.started": "2024-11-14T04:51:20.911413Z",
          "shell.execute_reply": "2024-11-14T04:51:20.950712Z"
        },
        "trusted": true,
        "id": "SDCv6Ms6I1dS"
      },
      "outputs": [],
      "execution_count": null
    },
    {
      "cell_type": "code",
      "source": [
        "from sklearn.preprocessing import StandardScaler, MinMaxScaler\n",
        "scaler = MinMaxScaler()\n",
        "# store the columns\n",
        "cols = X_train_1.columns\n",
        "\n",
        "# transform the data\n",
        "X_train_scaled_1 = scaler.fit_transform(X_train_1)\n",
        "X_test_scaled_1 = scaler.transform(X_test_1)\n",
        "\n",
        "X_train_scaled_1 = pd.DataFrame(X_train_scaled_1, columns = cols)\n",
        "X_test_scaled_1 = pd.DataFrame(X_test_scaled_1, columns = cols)"
      ],
      "metadata": {
        "execution": {
          "iopub.status.busy": "2024-11-14T04:51:21.554800Z",
          "iopub.execute_input": "2024-11-14T04:51:21.555558Z",
          "iopub.status.idle": "2024-11-14T04:51:21.594117Z",
          "shell.execute_reply.started": "2024-11-14T04:51:21.555519Z",
          "shell.execute_reply": "2024-11-14T04:51:21.593143Z"
        },
        "trusted": true,
        "id": "RMq0YZuvI1dS"
      },
      "outputs": [],
      "execution_count": null
    },
    {
      "cell_type": "code",
      "source": [
        "from sklearn.feature_selection import RFE\n",
        "estimator = RandomForestClassifier()\n",
        "selector = RFE(estimator, verbose=1)\n",
        "selector.fit(X_train_scaled_1, y_train_1)\n",
        "\n",
        "X_train_scaled_1 = selector.transform(X_train_scaled_1)\n",
        "X_test_scaled_1 = selector.transform(X_test_scaled_1)"
      ],
      "metadata": {
        "execution": {
          "iopub.status.busy": "2024-11-14T01:32:23.193178Z",
          "iopub.execute_input": "2024-11-14T01:32:23.193841Z",
          "iopub.status.idle": "2024-11-14T01:39:45.728057Z",
          "shell.execute_reply.started": "2024-11-14T01:32:23.193803Z",
          "shell.execute_reply": "2024-11-14T01:39:45.727291Z"
        },
        "trusted": true,
        "id": "L8AlPrURI1dS",
        "outputId": "745f236d-e127-4813-d81f-ccc508bba692"
      },
      "outputs": [
        {
          "name": "stdout",
          "text": "Fitting estimator with 43 features.\nFitting estimator with 42 features.\nFitting estimator with 41 features.\nFitting estimator with 40 features.\nFitting estimator with 39 features.\nFitting estimator with 38 features.\nFitting estimator with 37 features.\nFitting estimator with 36 features.\nFitting estimator with 35 features.\nFitting estimator with 34 features.\nFitting estimator with 33 features.\nFitting estimator with 32 features.\nFitting estimator with 31 features.\nFitting estimator with 30 features.\nFitting estimator with 29 features.\nFitting estimator with 28 features.\nFitting estimator with 27 features.\nFitting estimator with 26 features.\nFitting estimator with 25 features.\nFitting estimator with 24 features.\nFitting estimator with 23 features.\nFitting estimator with 22 features.\n",
          "output_type": "stream"
        }
      ],
      "execution_count": null
    },
    {
      "cell_type": "code",
      "source": [
        "models_1 = {}\n",
        "models_1['SVC']= svc\n",
        "models_1['LogisticRegression']= lr\n",
        "models_1['DecisionTreeClassifier']= dtc\n",
        "models_1['Gaussian Naive Bayes Classifier']= gnb\n",
        "models_1['Bernoulli Naive Bayes Classifier']= bnb\n",
        "models_1['Gradient Boosting Classifier']= grb\n",
        "models_1['Random Forest Classifier']= rfe\n",
        "models_1['XGBoost Classifier']= xgbc\n",
        "models_1['LightGBM Classifier']= lgbmc\n",
        "preds_1={}\n",
        "modelAcc_1={}\n",
        "modelPrec_1={}\n",
        "modelRec_1={}\n",
        "for name in models_1:\n",
        "    print(f\"Training Model: {name}\")\n",
        "    models_1[name].fit(X_train_scaled_1, y_train_1)\n",
        "    print(\"Model Fitted, Evaluating.....\")\n",
        "    preds_1[name] = models_1[name].predict(X_test_scaled_1)\n",
        "    modelAcc_1[name] = accuracy_score(y_test_1, preds_1[name])\n",
        "    modelPrec_1[name] = precision_score(y_test_1, preds_1[name], average='weighted', labels=np.unique(preds_1[name]))\n",
        "    modelRec_1[name] = recall_score(y_test_1, preds_1[name], average='weighted', labels=np.unique(preds_1[name]))\n",
        "print(\"Predictions complete.\")"
      ],
      "metadata": {
        "execution": {
          "iopub.status.busy": "2024-11-14T01:52:24.053043Z",
          "iopub.execute_input": "2024-11-14T01:52:24.053457Z",
          "iopub.status.idle": "2024-11-14T02:10:29.560673Z",
          "shell.execute_reply.started": "2024-11-14T01:52:24.053422Z",
          "shell.execute_reply": "2024-11-14T02:10:29.559767Z"
        },
        "trusted": true,
        "id": "Z1oOjpR5I1dS",
        "outputId": "4ba40120-3ffc-4901-d38c-316650ce3217"
      },
      "outputs": [
        {
          "name": "stdout",
          "text": "Training Model: SVC\nModel Fitted, Evaluating.....\nTraining Model: LogisticRegression\n",
          "output_type": "stream"
        },
        {
          "name": "stderr",
          "text": "/opt/conda/lib/python3.7/site-packages/sklearn/linear_model/_logistic.py:818: ConvergenceWarning: lbfgs failed to converge (status=1):\nSTOP: TOTAL NO. of ITERATIONS REACHED LIMIT.\n\nIncrease the number of iterations (max_iter) or scale the data as shown in:\n    https://scikit-learn.org/stable/modules/preprocessing.html\nPlease also refer to the documentation for alternative solver options:\n    https://scikit-learn.org/stable/modules/linear_model.html#logistic-regression\n  extra_warning_msg=_LOGISTIC_SOLVER_CONVERGENCE_MSG,\n",
          "output_type": "stream"
        },
        {
          "name": "stdout",
          "text": "Model Fitted, Evaluating.....\nTraining Model: DecisionTreeClassifier\nModel Fitted, Evaluating.....\nTraining Model: Gaussian Naive Bayes Classifier\nModel Fitted, Evaluating.....\n",
          "output_type": "stream"
        },
        {
          "name": "stderr",
          "text": "/opt/conda/lib/python3.7/site-packages/sklearn/metrics/_classification.py:1318: UndefinedMetricWarning: Recall is ill-defined and being set to 0.0 in labels with no true samples. Use `zero_division` parameter to control this behavior.\n  _warn_prf(average, modifier, msg_start, len(result))\n",
          "output_type": "stream"
        },
        {
          "name": "stdout",
          "text": "Training Model: Bernoulli Naive Bayes Classifier\nModel Fitted, Evaluating.....\n",
          "output_type": "stream"
        },
        {
          "name": "stderr",
          "text": "/opt/conda/lib/python3.7/site-packages/sklearn/metrics/_classification.py:1318: UndefinedMetricWarning: Recall is ill-defined and being set to 0.0 in labels with no true samples. Use `zero_division` parameter to control this behavior.\n  _warn_prf(average, modifier, msg_start, len(result))\n",
          "output_type": "stream"
        },
        {
          "name": "stdout",
          "text": "Training Model: Gradient Boosting Classifier\nModel Fitted, Evaluating.....\nTraining Model: Random Forest Classifier\nModel Fitted, Evaluating.....\nTraining Model: XGBoost Classifier\nModel Fitted, Evaluating.....\nTraining Model: LightGBM Classifier\nModel Fitted, Evaluating.....\nPredictions complete.\n",
          "output_type": "stream"
        }
      ],
      "execution_count": null
    },
    {
      "cell_type": "code",
      "source": [
        "for name in models_1:\n",
        "    print(\"Model : \",models_1[name],\" - Accuracy : \",modelAcc_1[name])\n",
        "    print(\"Model : \",models_1[name],\" - Precision : \",modelPrec_1[name])\n",
        "    print(\"Model : \",models_1[name],\" - Recall : \",modelRec_1[name])\n",
        "    print()"
      ],
      "metadata": {
        "execution": {
          "iopub.status.busy": "2024-11-14T02:10:29.562784Z",
          "iopub.execute_input": "2024-11-14T02:10:29.563259Z",
          "iopub.status.idle": "2024-11-14T02:10:29.585636Z",
          "shell.execute_reply.started": "2024-11-14T02:10:29.563219Z",
          "shell.execute_reply": "2024-11-14T02:10:29.584832Z"
        },
        "trusted": true,
        "id": "MFO4qMD-I1dS",
        "outputId": "b169c239-b211-4f6f-fc18-ae935380a5f3"
      },
      "outputs": [
        {
          "name": "stdout",
          "text": "Model :  SVC(random_state=42)  - Accuracy :  0.9326666666666666\nModel :  SVC(random_state=42)  - Precision :  0.9344751753274337\nModel :  SVC(random_state=42)  - Recall :  0.9335223955292351\n\nModel :  LogisticRegression()  - Accuracy :  0.8368166666666667\nModel :  LogisticRegression()  - Precision :  0.8200184487530662\nModel :  LogisticRegression()  - Recall :  0.8395873047724156\n\nModel :  DecisionTreeClassifier()  - Accuracy :  0.9862\nModel :  DecisionTreeClassifier()  - Precision :  0.986457850347954\nModel :  DecisionTreeClassifier()  - Recall :  0.9862328744291476\n\nModel :  GaussianNB()  - Accuracy :  0.6137833333333333\nModel :  GaussianNB()  - Precision :  0.8991519796758787\nModel :  GaussianNB()  - Recall :  0.613803793459782\n\nModel :  BernoulliNB()  - Accuracy :  0.7101666666666666\nModel :  BernoulliNB()  - Precision :  0.797798781396813\nModel :  BernoulliNB()  - Recall :  0.7133888061075859\n\nModel :  GradientBoostingClassifier(learning_rate=1.1)  - Accuracy :  0.039683333333333334\nModel :  GradientBoostingClassifier(learning_rate=1.1)  - Precision :  0.8372024928928588\nModel :  GradientBoostingClassifier(learning_rate=1.1)  - Recall :  0.054361971734514486\n\nModel :  RandomForestClassifier(max_depth=6)  - Accuracy :  0.9444166666666667\nModel :  RandomForestClassifier(max_depth=6)  - Precision :  0.9485900132592383\nModel :  RandomForestClassifier(max_depth=6)  - Recall :  0.9574378210327116\n\nModel :  XGBClassifier(base_score=0.5, booster='gbtree', callbacks=None,\n              colsample_bylevel=1, colsample_bynode=1, colsample_bytree=1,\n              early_stopping_rounds=None, enable_categorical=False,\n              eval_metric='logloss', gamma=0, gpu_id=-1,\n              grow_policy='depthwise', importance_type=None,\n              interaction_constraints='', learning_rate=0.300000012,\n              max_bin=256, max_cat_to_onehot=4, max_delta_step=0, max_depth=6,\n              max_leaves=0, min_child_weight=1, missing=nan,\n              monotone_constraints='()', n_estimators=100, n_jobs=0,\n              num_parallel_tree=1, objective='multi:softprob', predictor='auto',\n              random_state=42, reg_alpha=0, ...)  - Accuracy :  0.98985\nModel :  XGBClassifier(base_score=0.5, booster='gbtree', callbacks=None,\n              colsample_bylevel=1, colsample_bynode=1, colsample_bytree=1,\n              early_stopping_rounds=None, enable_categorical=False,\n              eval_metric='logloss', gamma=0, gpu_id=-1,\n              grow_policy='depthwise', importance_type=None,\n              interaction_constraints='', learning_rate=0.300000012,\n              max_bin=256, max_cat_to_onehot=4, max_delta_step=0, max_depth=6,\n              max_leaves=0, min_child_weight=1, missing=nan,\n              monotone_constraints='()', n_estimators=100, n_jobs=0,\n              num_parallel_tree=1, objective='multi:softprob', predictor='auto',\n              random_state=42, reg_alpha=0, ...)  - Precision :  0.9896144629298904\nModel :  XGBClassifier(base_score=0.5, booster='gbtree', callbacks=None,\n              colsample_bylevel=1, colsample_bynode=1, colsample_bytree=1,\n              early_stopping_rounds=None, enable_categorical=False,\n              eval_metric='logloss', gamma=0, gpu_id=-1,\n              grow_policy='depthwise', importance_type=None,\n              interaction_constraints='', learning_rate=0.300000012,\n              max_bin=256, max_cat_to_onehot=4, max_delta_step=0, max_depth=6,\n              max_leaves=0, min_child_weight=1, missing=nan,\n              monotone_constraints='()', n_estimators=100, n_jobs=0,\n              num_parallel_tree=1, objective='multi:softprob', predictor='auto',\n              random_state=42, reg_alpha=0, ...)  - Recall :  0.9900150025004167\n\nModel :  LGBMClassifier(random_state=42)  - Accuracy :  0.49245\nModel :  LGBMClassifier(random_state=42)  - Precision :  0.45428724837089274\nModel :  LGBMClassifier(random_state=42)  - Recall :  0.5184048003368658\n\n",
          "output_type": "stream"
        }
      ],
      "execution_count": null
    },
    {
      "cell_type": "markdown",
      "source": [
        "## Deep Learning Approach for Attack-classification and Transfer Learning"
      ],
      "metadata": {
        "id": "aLo6lEw9I1dT"
      }
    },
    {
      "cell_type": "code",
      "source": [
        "import pandas\n",
        "from tensorflow.keras.models import Sequential\n",
        "from tensorflow.keras.layers import Dense\n",
        "from tensorflow.keras.wrappers.scikit_learn import KerasClassifier\n",
        "# from tensorflow.keras.utils import np_utils\n",
        "from sklearn.model_selection import cross_val_score\n",
        "from sklearn.model_selection import KFold\n",
        "from sklearn.preprocessing import LabelEncoder\n",
        "from sklearn.pipeline import Pipeline"
      ],
      "metadata": {
        "execution": {
          "iopub.status.busy": "2024-11-14T04:51:30.914964Z",
          "iopub.execute_input": "2024-11-14T04:51:30.915643Z",
          "iopub.status.idle": "2024-11-14T04:51:30.921447Z",
          "shell.execute_reply.started": "2024-11-14T04:51:30.915606Z",
          "shell.execute_reply": "2024-11-14T04:51:30.920449Z"
        },
        "trusted": true,
        "id": "eDQxrcayI1dT"
      },
      "outputs": [],
      "execution_count": null
    },
    {
      "cell_type": "code",
      "source": [
        "from sklearn.preprocessing import StandardScaler, MinMaxScaler\n",
        "scaler = MinMaxScaler()\n",
        "# store the columns\n",
        "cols = X1.columns\n",
        "# transform the data\n",
        "X1_dl = scaler.fit_transform(X1)\n",
        "X1_dl = pd.DataFrame(X1_dl, columns = cols)\n",
        "\n",
        "from tensorflow.keras.utils import to_categorical\n",
        "y_cat = to_categorical(Y1)"
      ],
      "metadata": {
        "execution": {
          "iopub.status.busy": "2024-11-14T04:51:34.062897Z",
          "iopub.execute_input": "2024-11-14T04:51:34.063315Z",
          "iopub.status.idle": "2024-11-14T04:51:34.114184Z",
          "shell.execute_reply.started": "2024-11-14T04:51:34.063261Z",
          "shell.execute_reply": "2024-11-14T04:51:34.113427Z"
        },
        "trusted": true,
        "id": "tuFwEqBcI1dT"
      },
      "outputs": [],
      "execution_count": null
    },
    {
      "cell_type": "code",
      "source": [
        "from sklearn.model_selection import train_test_split\n",
        "X_train_dl, X_test_dl, y_train_dl, y_test_dl = train_test_split(X1_dl, y_cat, test_size=0.2)"
      ],
      "metadata": {
        "execution": {
          "iopub.status.busy": "2024-11-14T04:51:37.170989Z",
          "iopub.execute_input": "2024-11-14T04:51:37.171417Z",
          "iopub.status.idle": "2024-11-14T04:51:37.221733Z",
          "shell.execute_reply.started": "2024-11-14T04:51:37.171383Z",
          "shell.execute_reply": "2024-11-14T04:51:37.220923Z"
        },
        "trusted": true,
        "id": "dAZ5gJbaI1dT"
      },
      "outputs": [],
      "execution_count": null
    },
    {
      "cell_type": "code",
      "source": [
        "from sklearn.feature_selection import RFE\n",
        "estimator = RandomForestClassifier()\n",
        "selector = RFE(estimator, verbose = 1)\n",
        "selector.fit(X_train_dl, y_train_dl)\n",
        "\n",
        "X_train_dl = selector.transform(X_train_dl)\n",
        "X_test_dl = selector.transform(X_test_dl)"
      ],
      "metadata": {
        "execution": {
          "iopub.status.busy": "2024-11-14T04:51:39.050989Z",
          "iopub.execute_input": "2024-11-14T04:51:39.051863Z",
          "iopub.status.idle": "2024-11-14T05:10:09.321088Z",
          "shell.execute_reply.started": "2024-11-14T04:51:39.051824Z",
          "shell.execute_reply": "2024-11-14T05:10:09.320135Z"
        },
        "trusted": true,
        "id": "oUpF44SpI1dT",
        "outputId": "0cb6b7f2-0abe-47e3-b08e-e6fb3509f599"
      },
      "outputs": [
        {
          "name": "stdout",
          "text": "Fitting estimator with 43 features.\nFitting estimator with 42 features.\nFitting estimator with 41 features.\nFitting estimator with 40 features.\nFitting estimator with 39 features.\nFitting estimator with 38 features.\nFitting estimator with 37 features.\nFitting estimator with 36 features.\nFitting estimator with 35 features.\nFitting estimator with 34 features.\nFitting estimator with 33 features.\nFitting estimator with 32 features.\nFitting estimator with 31 features.\nFitting estimator with 30 features.\nFitting estimator with 29 features.\nFitting estimator with 28 features.\nFitting estimator with 27 features.\nFitting estimator with 26 features.\nFitting estimator with 25 features.\nFitting estimator with 24 features.\nFitting estimator with 23 features.\nFitting estimator with 22 features.\n",
          "output_type": "stream"
        }
      ],
      "execution_count": null
    },
    {
      "cell_type": "code",
      "source": [
        "print(np.shape(X_train_dl)[1], np.shape(X_test_dl)[1])\n",
        "print(np.shape(y_train_dl)[1], np.shape(y_test_dl)[1])"
      ],
      "metadata": {
        "trusted": true,
        "execution": {
          "iopub.status.busy": "2024-11-14T05:10:51.353006Z",
          "iopub.execute_input": "2024-11-14T05:10:51.353528Z",
          "iopub.status.idle": "2024-11-14T05:10:51.364377Z",
          "shell.execute_reply.started": "2024-11-14T05:10:51.353488Z",
          "shell.execute_reply": "2024-11-14T05:10:51.363135Z"
        },
        "id": "RYH2D36hI1dT",
        "outputId": "3f5246a8-5b20-49e2-f43c-b5ac0d7520e4"
      },
      "outputs": [
        {
          "name": "stdout",
          "text": "21 21\n20 20\n",
          "output_type": "stream"
        }
      ],
      "execution_count": null
    },
    {
      "cell_type": "code",
      "source": [
        "from tensorflow.keras.metrics import Precision, Recall"
      ],
      "metadata": {
        "trusted": true,
        "execution": {
          "iopub.status.busy": "2024-11-14T05:10:09.323091Z",
          "iopub.execute_input": "2024-11-14T05:10:09.323573Z",
          "iopub.status.idle": "2024-11-14T05:10:09.327980Z",
          "shell.execute_reply.started": "2024-11-14T05:10:09.323528Z",
          "shell.execute_reply": "2024-11-14T05:10:09.327149Z"
        },
        "id": "f1ZjAex2I1dT"
      },
      "outputs": [],
      "execution_count": null
    },
    {
      "cell_type": "code",
      "source": [
        "model = Sequential()\n",
        "model.add(Dense(30, input_dim=21, activation='relu'))\n",
        "model.add(Dense(35, activation = 'relu'))\n",
        "model.add(Dense(30, activation = 'relu'))\n",
        "model.add(Dense(25, activation = 'relu'))\n",
        "model.add(Dense(20, activation='softmax'))\n",
        "# Compile model\n",
        "model.compile(loss='categorical_crossentropy', optimizer='adam',metrics=['accuracy', Precision(), Recall()])"
      ],
      "metadata": {
        "execution": {
          "iopub.status.busy": "2024-11-14T05:11:18.085260Z",
          "iopub.execute_input": "2024-11-14T05:11:18.086220Z",
          "iopub.status.idle": "2024-11-14T05:11:18.139122Z",
          "shell.execute_reply.started": "2024-11-14T05:11:18.086179Z",
          "shell.execute_reply": "2024-11-14T05:11:18.138339Z"
        },
        "trusted": true,
        "id": "imfLTNGiI1dT"
      },
      "outputs": [],
      "execution_count": null
    },
    {
      "cell_type": "code",
      "source": [
        "import tensorflow as tf\n",
        "\n",
        "with tf.device('/gpu:0'):\n",
        "    k = model.fit(X_train_dl ,y_train_dl, verbose=2, epochs=300, batch_size=384 , validation_data=(X_test_dl, y_test_dl), use_multiprocessing=True)"
      ],
      "metadata": {
        "trusted": true,
        "execution": {
          "iopub.status.busy": "2024-11-14T05:11:18.840596Z",
          "iopub.execute_input": "2024-11-14T05:11:18.841372Z",
          "iopub.status.idle": "2024-11-14T05:14:37.575065Z",
          "shell.execute_reply.started": "2024-11-14T05:11:18.841337Z",
          "shell.execute_reply": "2024-11-14T05:14:37.574346Z"
        },
        "id": "b4mNWD4cI1dT",
        "outputId": "df2a2f10-a4e4-4c9c-dfab-5a65b0bf72d0"
      },
      "outputs": [
        {
          "name": "stdout",
          "text": "Epoch 1/300\n209/209 - 3s - loss: 1.3840 - accuracy: 0.6593 - precision_6: 0.8308 - recall_6: 0.4970 - val_loss: 0.6638 - val_accuracy: 0.8108 - val_precision_6: 0.8561 - val_recall_6: 0.7677\nEpoch 2/300\n209/209 - 1s - loss: 0.5560 - accuracy: 0.8293 - precision_6: 0.8991 - recall_6: 0.7770 - val_loss: 0.4684 - val_accuracy: 0.8569 - val_precision_6: 0.9315 - val_recall_6: 0.7923\nEpoch 3/300\n209/209 - 1s - loss: 0.4264 - accuracy: 0.8696 - precision_6: 0.9338 - recall_6: 0.8069 - val_loss: 0.3909 - val_accuracy: 0.8816 - val_precision_6: 0.9387 - val_recall_6: 0.8213\nEpoch 4/300\n209/209 - 1s - loss: 0.3670 - accuracy: 0.8854 - precision_6: 0.9452 - recall_6: 0.8296 - val_loss: 0.3411 - val_accuracy: 0.8941 - val_precision_6: 0.9546 - val_recall_6: 0.8424\nEpoch 5/300\n209/209 - 1s - loss: 0.3282 - accuracy: 0.8989 - precision_6: 0.9523 - recall_6: 0.8506 - val_loss: 0.3073 - val_accuracy: 0.9086 - val_precision_6: 0.9548 - val_recall_6: 0.8633\nEpoch 6/300\n209/209 - 1s - loss: 0.2982 - accuracy: 0.9118 - precision_6: 0.9579 - recall_6: 0.8688 - val_loss: 0.2881 - val_accuracy: 0.9074 - val_precision_6: 0.9577 - val_recall_6: 0.8733\nEpoch 7/300\n209/209 - 1s - loss: 0.2773 - accuracy: 0.9188 - precision_6: 0.9577 - recall_6: 0.8815 - val_loss: 0.2604 - val_accuracy: 0.9290 - val_precision_6: 0.9617 - val_recall_6: 0.8894\nEpoch 8/300\n209/209 - 1s - loss: 0.2610 - accuracy: 0.9244 - precision_6: 0.9581 - recall_6: 0.8900 - val_loss: 0.2507 - val_accuracy: 0.9293 - val_precision_6: 0.9617 - val_recall_6: 0.8907\nEpoch 9/300\n209/209 - 1s - loss: 0.2476 - accuracy: 0.9276 - precision_6: 0.9591 - recall_6: 0.8963 - val_loss: 0.2362 - val_accuracy: 0.9302 - val_precision_6: 0.9649 - val_recall_6: 0.8945\nEpoch 10/300\n209/209 - 1s - loss: 0.2389 - accuracy: 0.9297 - precision_6: 0.9591 - recall_6: 0.9016 - val_loss: 0.2267 - val_accuracy: 0.9362 - val_precision_6: 0.9570 - val_recall_6: 0.9161\nEpoch 11/300\n209/209 - 1s - loss: 0.2297 - accuracy: 0.9325 - precision_6: 0.9587 - recall_6: 0.9062 - val_loss: 0.2202 - val_accuracy: 0.9377 - val_precision_6: 0.9635 - val_recall_6: 0.9145\nEpoch 12/300\n209/209 - 1s - loss: 0.2242 - accuracy: 0.9339 - precision_6: 0.9588 - recall_6: 0.9100 - val_loss: 0.2146 - val_accuracy: 0.9394 - val_precision_6: 0.9617 - val_recall_6: 0.9154\nEpoch 13/300\n209/209 - 1s - loss: 0.2178 - accuracy: 0.9355 - precision_6: 0.9585 - recall_6: 0.9132 - val_loss: 0.2125 - val_accuracy: 0.9388 - val_precision_6: 0.9646 - val_recall_6: 0.9137\nEpoch 14/300\n209/209 - 1s - loss: 0.2149 - accuracy: 0.9358 - precision_6: 0.9586 - recall_6: 0.9152 - val_loss: 0.2087 - val_accuracy: 0.9402 - val_precision_6: 0.9611 - val_recall_6: 0.9218\nEpoch 15/300\n209/209 - 1s - loss: 0.2113 - accuracy: 0.9366 - precision_6: 0.9581 - recall_6: 0.9173 - val_loss: 0.2048 - val_accuracy: 0.9395 - val_precision_6: 0.9643 - val_recall_6: 0.9159\nEpoch 16/300\n209/209 - 1s - loss: 0.2069 - accuracy: 0.9374 - precision_6: 0.9583 - recall_6: 0.9197 - val_loss: 0.2029 - val_accuracy: 0.9394 - val_precision_6: 0.9619 - val_recall_6: 0.9234\nEpoch 17/300\n209/209 - 1s - loss: 0.2035 - accuracy: 0.9378 - precision_6: 0.9584 - recall_6: 0.9212 - val_loss: 0.2014 - val_accuracy: 0.9410 - val_precision_6: 0.9605 - val_recall_6: 0.9261\nEpoch 18/300\n209/209 - 1s - loss: 0.2020 - accuracy: 0.9383 - precision_6: 0.9584 - recall_6: 0.9225 - val_loss: 0.1957 - val_accuracy: 0.9391 - val_precision_6: 0.9573 - val_recall_6: 0.9271\nEpoch 19/300\n209/209 - 1s - loss: 0.1986 - accuracy: 0.9389 - precision_6: 0.9577 - recall_6: 0.9248 - val_loss: 0.1903 - val_accuracy: 0.9409 - val_precision_6: 0.9572 - val_recall_6: 0.9328\nEpoch 20/300\n209/209 - 1s - loss: 0.1951 - accuracy: 0.9396 - precision_6: 0.9581 - recall_6: 0.9267 - val_loss: 0.1879 - val_accuracy: 0.9438 - val_precision_6: 0.9605 - val_recall_6: 0.9301\nEpoch 21/300\n209/209 - 1s - loss: 0.1930 - accuracy: 0.9406 - precision_6: 0.9566 - recall_6: 0.9278 - val_loss: 0.1902 - val_accuracy: 0.9433 - val_precision_6: 0.9571 - val_recall_6: 0.9341\nEpoch 22/300\n209/209 - 1s - loss: 0.1898 - accuracy: 0.9417 - precision_6: 0.9579 - recall_6: 0.9299 - val_loss: 0.1825 - val_accuracy: 0.9446 - val_precision_6: 0.9588 - val_recall_6: 0.9367\nEpoch 23/300\n209/209 - 1s - loss: 0.1894 - accuracy: 0.9415 - precision_6: 0.9572 - recall_6: 0.9297 - val_loss: 0.1807 - val_accuracy: 0.9459 - val_precision_6: 0.9587 - val_recall_6: 0.9362\nEpoch 24/300\n209/209 - 1s - loss: 0.1863 - accuracy: 0.9427 - precision_6: 0.9583 - recall_6: 0.9307 - val_loss: 0.1825 - val_accuracy: 0.9438 - val_precision_6: 0.9574 - val_recall_6: 0.9345\nEpoch 25/300\n209/209 - 1s - loss: 0.1848 - accuracy: 0.9429 - precision_6: 0.9584 - recall_6: 0.9307 - val_loss: 0.1787 - val_accuracy: 0.9447 - val_precision_6: 0.9578 - val_recall_6: 0.9387\nEpoch 26/300\n209/209 - 1s - loss: 0.1825 - accuracy: 0.9439 - precision_6: 0.9587 - recall_6: 0.9318 - val_loss: 0.1790 - val_accuracy: 0.9462 - val_precision_6: 0.9581 - val_recall_6: 0.9388\nEpoch 27/300\n209/209 - 1s - loss: 0.1813 - accuracy: 0.9444 - precision_6: 0.9583 - recall_6: 0.9324 - val_loss: 0.1805 - val_accuracy: 0.9453 - val_precision_6: 0.9538 - val_recall_6: 0.9392\nEpoch 28/300\n209/209 - 1s - loss: 0.1798 - accuracy: 0.9449 - precision_6: 0.9588 - recall_6: 0.9329 - val_loss: 0.1797 - val_accuracy: 0.9458 - val_precision_6: 0.9581 - val_recall_6: 0.9299\nEpoch 29/300\n209/209 - 1s - loss: 0.1795 - accuracy: 0.9440 - precision_6: 0.9574 - recall_6: 0.9327 - val_loss: 0.1709 - val_accuracy: 0.9492 - val_precision_6: 0.9603 - val_recall_6: 0.9388\nEpoch 30/300\n209/209 - 1s - loss: 0.1761 - accuracy: 0.9462 - precision_6: 0.9597 - recall_6: 0.9350 - val_loss: 0.1740 - val_accuracy: 0.9479 - val_precision_6: 0.9609 - val_recall_6: 0.9333\nEpoch 31/300\n209/209 - 1s - loss: 0.1753 - accuracy: 0.9462 - precision_6: 0.9594 - recall_6: 0.9344 - val_loss: 0.1706 - val_accuracy: 0.9479 - val_precision_6: 0.9586 - val_recall_6: 0.9397\nEpoch 32/300\n209/209 - 1s - loss: 0.1747 - accuracy: 0.9459 - precision_6: 0.9590 - recall_6: 0.9359 - val_loss: 0.1718 - val_accuracy: 0.9509 - val_precision_6: 0.9624 - val_recall_6: 0.9378\nEpoch 33/300\n209/209 - 1s - loss: 0.1735 - accuracy: 0.9461 - precision_6: 0.9594 - recall_6: 0.9354 - val_loss: 0.1684 - val_accuracy: 0.9489 - val_precision_6: 0.9596 - val_recall_6: 0.9409\nEpoch 34/300\n209/209 - 1s - loss: 0.1719 - accuracy: 0.9471 - precision_6: 0.9598 - recall_6: 0.9363 - val_loss: 0.1708 - val_accuracy: 0.9509 - val_precision_6: 0.9616 - val_recall_6: 0.9416\nEpoch 35/300\n209/209 - 1s - loss: 0.1710 - accuracy: 0.9473 - precision_6: 0.9594 - recall_6: 0.9367 - val_loss: 0.1707 - val_accuracy: 0.9477 - val_precision_6: 0.9601 - val_recall_6: 0.9395\nEpoch 36/300\n209/209 - 1s - loss: 0.1689 - accuracy: 0.9481 - precision_6: 0.9599 - recall_6: 0.9383 - val_loss: 0.1641 - val_accuracy: 0.9499 - val_precision_6: 0.9653 - val_recall_6: 0.9394\nEpoch 37/300\n209/209 - 1s - loss: 0.1680 - accuracy: 0.9486 - precision_6: 0.9603 - recall_6: 0.9378 - val_loss: 0.1623 - val_accuracy: 0.9490 - val_precision_6: 0.9597 - val_recall_6: 0.9435\nEpoch 38/300\n209/209 - 1s - loss: 0.1664 - accuracy: 0.9485 - precision_6: 0.9592 - recall_6: 0.9384 - val_loss: 0.1665 - val_accuracy: 0.9499 - val_precision_6: 0.9590 - val_recall_6: 0.9439\nEpoch 39/300\n209/209 - 1s - loss: 0.1655 - accuracy: 0.9492 - precision_6: 0.9602 - recall_6: 0.9396 - val_loss: 0.1722 - val_accuracy: 0.9524 - val_precision_6: 0.9613 - val_recall_6: 0.9435\nEpoch 40/300\n209/209 - 1s - loss: 0.1662 - accuracy: 0.9488 - precision_6: 0.9600 - recall_6: 0.9398 - val_loss: 0.1666 - val_accuracy: 0.9530 - val_precision_6: 0.9656 - val_recall_6: 0.9414\nEpoch 41/300\n209/209 - 1s - loss: 0.1639 - accuracy: 0.9497 - precision_6: 0.9604 - recall_6: 0.9409 - val_loss: 0.1659 - val_accuracy: 0.9506 - val_precision_6: 0.9614 - val_recall_6: 0.9421\nEpoch 42/300\n209/209 - 1s - loss: 0.1630 - accuracy: 0.9495 - precision_6: 0.9601 - recall_6: 0.9405 - val_loss: 0.1580 - val_accuracy: 0.9533 - val_precision_6: 0.9662 - val_recall_6: 0.9385\nEpoch 43/300\n209/209 - 1s - loss: 0.1616 - accuracy: 0.9504 - precision_6: 0.9607 - recall_6: 0.9416 - val_loss: 0.1607 - val_accuracy: 0.9477 - val_precision_6: 0.9598 - val_recall_6: 0.9374\nEpoch 44/300\n209/209 - 1s - loss: 0.1618 - accuracy: 0.9502 - precision_6: 0.9603 - recall_6: 0.9417 - val_loss: 0.1659 - val_accuracy: 0.9514 - val_precision_6: 0.9630 - val_recall_6: 0.9457\nEpoch 45/300\n209/209 - 1s - loss: 0.1600 - accuracy: 0.9503 - precision_6: 0.9612 - recall_6: 0.9415 - val_loss: 0.1568 - val_accuracy: 0.9539 - val_precision_6: 0.9641 - val_recall_6: 0.9456\nEpoch 46/300\n209/209 - 1s - loss: 0.1585 - accuracy: 0.9513 - precision_6: 0.9614 - recall_6: 0.9434 - val_loss: 0.1548 - val_accuracy: 0.9543 - val_precision_6: 0.9644 - val_recall_6: 0.9446\nEpoch 47/300\n209/209 - 1s - loss: 0.1580 - accuracy: 0.9517 - precision_6: 0.9618 - recall_6: 0.9437 - val_loss: 0.1602 - val_accuracy: 0.9513 - val_precision_6: 0.9597 - val_recall_6: 0.9445\nEpoch 48/300\n209/209 - 1s - loss: 0.1564 - accuracy: 0.9519 - precision_6: 0.9622 - recall_6: 0.9441 - val_loss: 0.1610 - val_accuracy: 0.9541 - val_precision_6: 0.9640 - val_recall_6: 0.9472\nEpoch 49/300\n209/209 - 1s - loss: 0.1568 - accuracy: 0.9524 - precision_6: 0.9620 - recall_6: 0.9444 - val_loss: 0.1574 - val_accuracy: 0.9511 - val_precision_6: 0.9614 - val_recall_6: 0.9403\nEpoch 50/300\n209/209 - 1s - loss: 0.1548 - accuracy: 0.9533 - precision_6: 0.9626 - recall_6: 0.9451 - val_loss: 0.1552 - val_accuracy: 0.9560 - val_precision_6: 0.9649 - val_recall_6: 0.9510\nEpoch 51/300\n209/209 - 1s - loss: 0.1532 - accuracy: 0.9538 - precision_6: 0.9633 - recall_6: 0.9459 - val_loss: 0.1541 - val_accuracy: 0.9574 - val_precision_6: 0.9638 - val_recall_6: 0.9482\nEpoch 52/300\n209/209 - 1s - loss: 0.1534 - accuracy: 0.9533 - precision_6: 0.9630 - recall_6: 0.9451 - val_loss: 0.1498 - val_accuracy: 0.9548 - val_precision_6: 0.9640 - val_recall_6: 0.9476\nEpoch 53/300\n209/209 - 1s - loss: 0.1528 - accuracy: 0.9537 - precision_6: 0.9632 - recall_6: 0.9459 - val_loss: 0.1489 - val_accuracy: 0.9556 - val_precision_6: 0.9656 - val_recall_6: 0.9512\nEpoch 54/300\n209/209 - 1s - loss: 0.1520 - accuracy: 0.9542 - precision_6: 0.9638 - recall_6: 0.9467 - val_loss: 0.1530 - val_accuracy: 0.9531 - val_precision_6: 0.9629 - val_recall_6: 0.9456\nEpoch 55/300\n209/209 - 1s - loss: 0.1505 - accuracy: 0.9550 - precision_6: 0.9636 - recall_6: 0.9482 - val_loss: 0.1532 - val_accuracy: 0.9570 - val_precision_6: 0.9646 - val_recall_6: 0.9488\nEpoch 56/300\n209/209 - 1s - loss: 0.1504 - accuracy: 0.9550 - precision_6: 0.9641 - recall_6: 0.9472 - val_loss: 0.1480 - val_accuracy: 0.9552 - val_precision_6: 0.9677 - val_recall_6: 0.9498\nEpoch 57/300\n209/209 - 1s - loss: 0.1491 - accuracy: 0.9558 - precision_6: 0.9645 - recall_6: 0.9491 - val_loss: 0.1566 - val_accuracy: 0.9538 - val_precision_6: 0.9690 - val_recall_6: 0.9441\nEpoch 58/300\n209/209 - 1s - loss: 0.1490 - accuracy: 0.9552 - precision_6: 0.9639 - recall_6: 0.9480 - val_loss: 0.1494 - val_accuracy: 0.9577 - val_precision_6: 0.9678 - val_recall_6: 0.9492\nEpoch 59/300\n209/209 - 1s - loss: 0.1492 - accuracy: 0.9559 - precision_6: 0.9645 - recall_6: 0.9482 - val_loss: 0.1462 - val_accuracy: 0.9549 - val_precision_6: 0.9686 - val_recall_6: 0.9472\nEpoch 60/300\n209/209 - 1s - loss: 0.1467 - accuracy: 0.9563 - precision_6: 0.9650 - recall_6: 0.9491 - val_loss: 0.1460 - val_accuracy: 0.9610 - val_precision_6: 0.9691 - val_recall_6: 0.9510\nEpoch 61/300\n209/209 - 1s - loss: 0.1464 - accuracy: 0.9569 - precision_6: 0.9651 - recall_6: 0.9499 - val_loss: 0.1453 - val_accuracy: 0.9571 - val_precision_6: 0.9661 - val_recall_6: 0.9489\nEpoch 62/300\n209/209 - 1s - loss: 0.1462 - accuracy: 0.9570 - precision_6: 0.9646 - recall_6: 0.9500 - val_loss: 0.1447 - val_accuracy: 0.9607 - val_precision_6: 0.9678 - val_recall_6: 0.9527\nEpoch 63/300\n209/209 - 1s - loss: 0.1465 - accuracy: 0.9559 - precision_6: 0.9641 - recall_6: 0.9487 - val_loss: 0.1445 - val_accuracy: 0.9602 - val_precision_6: 0.9677 - val_recall_6: 0.9518\nEpoch 64/300\n209/209 - 1s - loss: 0.1448 - accuracy: 0.9570 - precision_6: 0.9650 - recall_6: 0.9498 - val_loss: 0.1546 - val_accuracy: 0.9538 - val_precision_6: 0.9635 - val_recall_6: 0.9465\nEpoch 65/300\n209/209 - 1s - loss: 0.1438 - accuracy: 0.9579 - precision_6: 0.9655 - recall_6: 0.9517 - val_loss: 0.1455 - val_accuracy: 0.9614 - val_precision_6: 0.9694 - val_recall_6: 0.9556\nEpoch 66/300\n209/209 - 1s - loss: 0.1435 - accuracy: 0.9579 - precision_6: 0.9656 - recall_6: 0.9518 - val_loss: 0.1492 - val_accuracy: 0.9542 - val_precision_6: 0.9621 - val_recall_6: 0.9471\nEpoch 67/300\n209/209 - 1s - loss: 0.1442 - accuracy: 0.9578 - precision_6: 0.9656 - recall_6: 0.9514 - val_loss: 0.1467 - val_accuracy: 0.9571 - val_precision_6: 0.9645 - val_recall_6: 0.9515\nEpoch 68/300\n209/209 - 1s - loss: 0.1428 - accuracy: 0.9583 - precision_6: 0.9662 - recall_6: 0.9519 - val_loss: 0.1414 - val_accuracy: 0.9642 - val_precision_6: 0.9703 - val_recall_6: 0.9550\nEpoch 69/300\n209/209 - 1s - loss: 0.1419 - accuracy: 0.9587 - precision_6: 0.9668 - recall_6: 0.9520 - val_loss: 0.1394 - val_accuracy: 0.9607 - val_precision_6: 0.9677 - val_recall_6: 0.9528\nEpoch 70/300\n209/209 - 1s - loss: 0.1413 - accuracy: 0.9584 - precision_6: 0.9661 - recall_6: 0.9522 - val_loss: 0.1400 - val_accuracy: 0.9592 - val_precision_6: 0.9660 - val_recall_6: 0.9531\nEpoch 71/300\n209/209 - 1s - loss: 0.1413 - accuracy: 0.9586 - precision_6: 0.9655 - recall_6: 0.9514 - val_loss: 0.1438 - val_accuracy: 0.9632 - val_precision_6: 0.9688 - val_recall_6: 0.9579\nEpoch 72/300\n209/209 - 1s - loss: 0.1386 - accuracy: 0.9602 - precision_6: 0.9676 - recall_6: 0.9534 - val_loss: 0.1427 - val_accuracy: 0.9602 - val_precision_6: 0.9678 - val_recall_6: 0.9511\nEpoch 73/300\n209/209 - 1s - loss: 0.1396 - accuracy: 0.9593 - precision_6: 0.9670 - recall_6: 0.9532 - val_loss: 0.1383 - val_accuracy: 0.9611 - val_precision_6: 0.9670 - val_recall_6: 0.9553\nEpoch 74/300\n209/209 - 1s - loss: 0.1401 - accuracy: 0.9593 - precision_6: 0.9669 - recall_6: 0.9536 - val_loss: 0.1402 - val_accuracy: 0.9643 - val_precision_6: 0.9692 - val_recall_6: 0.9576\nEpoch 75/300\n209/209 - 1s - loss: 0.1382 - accuracy: 0.9595 - precision_6: 0.9663 - recall_6: 0.9537 - val_loss: 0.1374 - val_accuracy: 0.9631 - val_precision_6: 0.9707 - val_recall_6: 0.9591\nEpoch 76/300\n209/209 - 1s - loss: 0.1380 - accuracy: 0.9599 - precision_6: 0.9670 - recall_6: 0.9539 - val_loss: 0.1438 - val_accuracy: 0.9603 - val_precision_6: 0.9668 - val_recall_6: 0.9536\nEpoch 77/300\n209/209 - 1s - loss: 0.1372 - accuracy: 0.9597 - precision_6: 0.9667 - recall_6: 0.9539 - val_loss: 0.1362 - val_accuracy: 0.9656 - val_precision_6: 0.9726 - val_recall_6: 0.9597\nEpoch 78/300\n209/209 - 1s - loss: 0.1372 - accuracy: 0.9602 - precision_6: 0.9675 - recall_6: 0.9541 - val_loss: 0.1425 - val_accuracy: 0.9589 - val_precision_6: 0.9661 - val_recall_6: 0.9548\nEpoch 79/300\n209/209 - 1s - loss: 0.1361 - accuracy: 0.9614 - precision_6: 0.9686 - recall_6: 0.9551 - val_loss: 0.1384 - val_accuracy: 0.9632 - val_precision_6: 0.9694 - val_recall_6: 0.9567\nEpoch 80/300\n209/209 - 1s - loss: 0.1357 - accuracy: 0.9605 - precision_6: 0.9676 - recall_6: 0.9551 - val_loss: 0.1421 - val_accuracy: 0.9600 - val_precision_6: 0.9656 - val_recall_6: 0.9538\nEpoch 81/300\n209/209 - 1s - loss: 0.1346 - accuracy: 0.9617 - precision_6: 0.9686 - recall_6: 0.9563 - val_loss: 0.1437 - val_accuracy: 0.9545 - val_precision_6: 0.9612 - val_recall_6: 0.9481\nEpoch 82/300\n209/209 - 1s - loss: 0.1351 - accuracy: 0.9611 - precision_6: 0.9681 - recall_6: 0.9550 - val_loss: 0.1377 - val_accuracy: 0.9614 - val_precision_6: 0.9677 - val_recall_6: 0.9570\nEpoch 83/300\n209/209 - 1s - loss: 0.1340 - accuracy: 0.9612 - precision_6: 0.9683 - recall_6: 0.9552 - val_loss: 0.1347 - val_accuracy: 0.9647 - val_precision_6: 0.9705 - val_recall_6: 0.9610\nEpoch 84/300\n209/209 - 1s - loss: 0.1324 - accuracy: 0.9622 - precision_6: 0.9690 - recall_6: 0.9567 - val_loss: 0.1319 - val_accuracy: 0.9663 - val_precision_6: 0.9721 - val_recall_6: 0.9594\nEpoch 85/300\n209/209 - 1s - loss: 0.1326 - accuracy: 0.9613 - precision_6: 0.9678 - recall_6: 0.9561 - val_loss: 0.1352 - val_accuracy: 0.9624 - val_precision_6: 0.9692 - val_recall_6: 0.9545\nEpoch 86/300\n209/209 - 1s - loss: 0.1323 - accuracy: 0.9621 - precision_6: 0.9688 - recall_6: 0.9564 - val_loss: 0.1317 - val_accuracy: 0.9643 - val_precision_6: 0.9715 - val_recall_6: 0.9581\nEpoch 87/300\n209/209 - 1s - loss: 0.1320 - accuracy: 0.9619 - precision_6: 0.9683 - recall_6: 0.9563 - val_loss: 0.1385 - val_accuracy: 0.9589 - val_precision_6: 0.9652 - val_recall_6: 0.9527\nEpoch 88/300\n209/209 - 1s - loss: 0.1312 - accuracy: 0.9624 - precision_6: 0.9688 - recall_6: 0.9569 - val_loss: 0.1331 - val_accuracy: 0.9610 - val_precision_6: 0.9670 - val_recall_6: 0.9568\nEpoch 89/300\n209/209 - 1s - loss: 0.1320 - accuracy: 0.9607 - precision_6: 0.9679 - recall_6: 0.9552 - val_loss: 0.1380 - val_accuracy: 0.9572 - val_precision_6: 0.9653 - val_recall_6: 0.9520\nEpoch 90/300\n209/209 - 1s - loss: 0.1325 - accuracy: 0.9616 - precision_6: 0.9685 - recall_6: 0.9564 - val_loss: 0.1371 - val_accuracy: 0.9606 - val_precision_6: 0.9645 - val_recall_6: 0.9568\nEpoch 91/300\n209/209 - 1s - loss: 0.1299 - accuracy: 0.9628 - precision_6: 0.9691 - recall_6: 0.9575 - val_loss: 0.1326 - val_accuracy: 0.9645 - val_precision_6: 0.9699 - val_recall_6: 0.9599\nEpoch 92/300\n209/209 - 1s - loss: 0.1310 - accuracy: 0.9620 - precision_6: 0.9685 - recall_6: 0.9568 - val_loss: 0.1319 - val_accuracy: 0.9632 - val_precision_6: 0.9706 - val_recall_6: 0.9587\nEpoch 93/300\n209/209 - 1s - loss: 0.1298 - accuracy: 0.9625 - precision_6: 0.9690 - recall_6: 0.9575 - val_loss: 0.1297 - val_accuracy: 0.9661 - val_precision_6: 0.9709 - val_recall_6: 0.9617\nEpoch 94/300\n209/209 - 1s - loss: 0.1281 - accuracy: 0.9633 - precision_6: 0.9696 - recall_6: 0.9581 - val_loss: 0.1290 - val_accuracy: 0.9646 - val_precision_6: 0.9725 - val_recall_6: 0.9573\nEpoch 95/300\n209/209 - 1s - loss: 0.1282 - accuracy: 0.9628 - precision_6: 0.9691 - recall_6: 0.9581 - val_loss: 0.1308 - val_accuracy: 0.9640 - val_precision_6: 0.9706 - val_recall_6: 0.9602\nEpoch 96/300\n209/209 - 1s - loss: 0.1280 - accuracy: 0.9633 - precision_6: 0.9696 - recall_6: 0.9581 - val_loss: 0.1316 - val_accuracy: 0.9674 - val_precision_6: 0.9722 - val_recall_6: 0.9618\nEpoch 97/300\n209/209 - 1s - loss: 0.1292 - accuracy: 0.9620 - precision_6: 0.9684 - recall_6: 0.9569 - val_loss: 0.1316 - val_accuracy: 0.9621 - val_precision_6: 0.9675 - val_recall_6: 0.9586\nEpoch 98/300\n209/209 - 1s - loss: 0.1262 - accuracy: 0.9640 - precision_6: 0.9702 - recall_6: 0.9590 - val_loss: 0.1273 - val_accuracy: 0.9653 - val_precision_6: 0.9692 - val_recall_6: 0.9620\nEpoch 99/300\n209/209 - 1s - loss: 0.1284 - accuracy: 0.9626 - precision_6: 0.9684 - recall_6: 0.9579 - val_loss: 0.1281 - val_accuracy: 0.9620 - val_precision_6: 0.9723 - val_recall_6: 0.9571\nEpoch 100/300\n209/209 - 1s - loss: 0.1276 - accuracy: 0.9625 - precision_6: 0.9686 - recall_6: 0.9574 - val_loss: 0.1282 - val_accuracy: 0.9638 - val_precision_6: 0.9722 - val_recall_6: 0.9568\nEpoch 101/300\n209/209 - 1s - loss: 0.1271 - accuracy: 0.9629 - precision_6: 0.9687 - recall_6: 0.9582 - val_loss: 0.1295 - val_accuracy: 0.9634 - val_precision_6: 0.9678 - val_recall_6: 0.9599\nEpoch 102/300\n209/209 - 1s - loss: 0.1288 - accuracy: 0.9616 - precision_6: 0.9680 - recall_6: 0.9571 - val_loss: 0.1255 - val_accuracy: 0.9667 - val_precision_6: 0.9715 - val_recall_6: 0.9630\nEpoch 103/300\n209/209 - 1s - loss: 0.1264 - accuracy: 0.9634 - precision_6: 0.9689 - recall_6: 0.9582 - val_loss: 0.1363 - val_accuracy: 0.9593 - val_precision_6: 0.9647 - val_recall_6: 0.9544\nEpoch 104/300\n209/209 - 1s - loss: 0.1260 - accuracy: 0.9633 - precision_6: 0.9692 - recall_6: 0.9583 - val_loss: 0.1282 - val_accuracy: 0.9649 - val_precision_6: 0.9686 - val_recall_6: 0.9603\nEpoch 105/300\n209/209 - 1s - loss: 0.1263 - accuracy: 0.9627 - precision_6: 0.9687 - recall_6: 0.9582 - val_loss: 0.1349 - val_accuracy: 0.9614 - val_precision_6: 0.9668 - val_recall_6: 0.9571\nEpoch 106/300\n209/209 - 1s - loss: 0.1247 - accuracy: 0.9637 - precision_6: 0.9693 - recall_6: 0.9591 - val_loss: 0.1305 - val_accuracy: 0.9638 - val_precision_6: 0.9690 - val_recall_6: 0.9603\nEpoch 107/300\n209/209 - 1s - loss: 0.1237 - accuracy: 0.9644 - precision_6: 0.9703 - recall_6: 0.9595 - val_loss: 0.1299 - val_accuracy: 0.9643 - val_precision_6: 0.9696 - val_recall_6: 0.9600\nEpoch 108/300\n209/209 - 1s - loss: 0.1238 - accuracy: 0.9642 - precision_6: 0.9698 - recall_6: 0.9593 - val_loss: 0.1248 - val_accuracy: 0.9648 - val_precision_6: 0.9728 - val_recall_6: 0.9602\nEpoch 109/300\n209/209 - 1s - loss: 0.1248 - accuracy: 0.9635 - precision_6: 0.9694 - recall_6: 0.9589 - val_loss: 0.1411 - val_accuracy: 0.9574 - val_precision_6: 0.9635 - val_recall_6: 0.9536\nEpoch 110/300\n209/209 - 1s - loss: 0.1253 - accuracy: 0.9635 - precision_6: 0.9690 - recall_6: 0.9588 - val_loss: 0.1247 - val_accuracy: 0.9656 - val_precision_6: 0.9708 - val_recall_6: 0.9600\nEpoch 111/300\n209/209 - 1s - loss: 0.1224 - accuracy: 0.9653 - precision_6: 0.9708 - recall_6: 0.9604 - val_loss: 0.1260 - val_accuracy: 0.9645 - val_precision_6: 0.9703 - val_recall_6: 0.9586\nEpoch 112/300\n209/209 - 1s - loss: 0.1229 - accuracy: 0.9635 - precision_6: 0.9696 - recall_6: 0.9586 - val_loss: 0.1268 - val_accuracy: 0.9649 - val_precision_6: 0.9681 - val_recall_6: 0.9610\nEpoch 113/300\n209/209 - 1s - loss: 0.1220 - accuracy: 0.9646 - precision_6: 0.9703 - recall_6: 0.9605 - val_loss: 0.1267 - val_accuracy: 0.9660 - val_precision_6: 0.9716 - val_recall_6: 0.9622\nEpoch 114/300\n209/209 - 1s - loss: 0.1227 - accuracy: 0.9646 - precision_6: 0.9702 - recall_6: 0.9602 - val_loss: 0.1268 - val_accuracy: 0.9646 - val_precision_6: 0.9692 - val_recall_6: 0.9610\nEpoch 115/300\n209/209 - 1s - loss: 0.1213 - accuracy: 0.9652 - precision_6: 0.9707 - recall_6: 0.9609 - val_loss: 0.1265 - val_accuracy: 0.9629 - val_precision_6: 0.9680 - val_recall_6: 0.9585\nEpoch 116/300\n209/209 - 1s - loss: 0.1209 - accuracy: 0.9647 - precision_6: 0.9704 - recall_6: 0.9604 - val_loss: 0.1314 - val_accuracy: 0.9621 - val_precision_6: 0.9668 - val_recall_6: 0.9584\nEpoch 117/300\n209/209 - 1s - loss: 0.1240 - accuracy: 0.9632 - precision_6: 0.9690 - recall_6: 0.9587 - val_loss: 0.1361 - val_accuracy: 0.9535 - val_precision_6: 0.9594 - val_recall_6: 0.9491\nEpoch 118/300\n209/209 - 1s - loss: 0.1227 - accuracy: 0.9637 - precision_6: 0.9692 - recall_6: 0.9595 - val_loss: 0.1255 - val_accuracy: 0.9668 - val_precision_6: 0.9710 - val_recall_6: 0.9625\nEpoch 119/300\n209/209 - 1s - loss: 0.1222 - accuracy: 0.9642 - precision_6: 0.9699 - recall_6: 0.9598 - val_loss: 0.1243 - val_accuracy: 0.9654 - val_precision_6: 0.9701 - val_recall_6: 0.9627\nEpoch 120/300\n209/209 - 1s - loss: 0.1220 - accuracy: 0.9639 - precision_6: 0.9698 - recall_6: 0.9592 - val_loss: 0.1284 - val_accuracy: 0.9633 - val_precision_6: 0.9684 - val_recall_6: 0.9598\nEpoch 121/300\n209/209 - 1s - loss: 0.1199 - accuracy: 0.9650 - precision_6: 0.9704 - recall_6: 0.9606 - val_loss: 0.1230 - val_accuracy: 0.9683 - val_precision_6: 0.9746 - val_recall_6: 0.9635\nEpoch 122/300\n209/209 - 1s - loss: 0.1189 - accuracy: 0.9659 - precision_6: 0.9711 - recall_6: 0.9616 - val_loss: 0.1225 - val_accuracy: 0.9671 - val_precision_6: 0.9716 - val_recall_6: 0.9645\nEpoch 123/300\n209/209 - 1s - loss: 0.1196 - accuracy: 0.9650 - precision_6: 0.9703 - recall_6: 0.9606 - val_loss: 0.1245 - val_accuracy: 0.9649 - val_precision_6: 0.9684 - val_recall_6: 0.9614\nEpoch 124/300\n209/209 - 1s - loss: 0.1202 - accuracy: 0.9646 - precision_6: 0.9697 - recall_6: 0.9601 - val_loss: 0.1236 - val_accuracy: 0.9653 - val_precision_6: 0.9681 - val_recall_6: 0.9621\nEpoch 125/300\n209/209 - 1s - loss: 0.1221 - accuracy: 0.9639 - precision_6: 0.9690 - recall_6: 0.9598 - val_loss: 0.1217 - val_accuracy: 0.9653 - val_precision_6: 0.9705 - val_recall_6: 0.9610\nEpoch 126/300\n209/209 - 1s - loss: 0.1186 - accuracy: 0.9654 - precision_6: 0.9708 - recall_6: 0.9612 - val_loss: 0.1252 - val_accuracy: 0.9661 - val_precision_6: 0.9705 - val_recall_6: 0.9631\nEpoch 127/300\n209/209 - 1s - loss: 0.1194 - accuracy: 0.9653 - precision_6: 0.9709 - recall_6: 0.9612 - val_loss: 0.1214 - val_accuracy: 0.9672 - val_precision_6: 0.9712 - val_recall_6: 0.9630\nEpoch 128/300\n209/209 - 1s - loss: 0.1180 - accuracy: 0.9655 - precision_6: 0.9709 - recall_6: 0.9613 - val_loss: 0.1271 - val_accuracy: 0.9667 - val_precision_6: 0.9727 - val_recall_6: 0.9602\nEpoch 129/300\n209/209 - 1s - loss: 0.1183 - accuracy: 0.9655 - precision_6: 0.9708 - recall_6: 0.9611 - val_loss: 0.1225 - val_accuracy: 0.9653 - val_precision_6: 0.9692 - val_recall_6: 0.9615\nEpoch 130/300\n209/209 - 1s - loss: 0.1187 - accuracy: 0.9649 - precision_6: 0.9704 - recall_6: 0.9610 - val_loss: 0.1244 - val_accuracy: 0.9647 - val_precision_6: 0.9712 - val_recall_6: 0.9600\nEpoch 131/300\n209/209 - 1s - loss: 0.1179 - accuracy: 0.9651 - precision_6: 0.9703 - recall_6: 0.9612 - val_loss: 0.1309 - val_accuracy: 0.9604 - val_precision_6: 0.9654 - val_recall_6: 0.9559\nEpoch 132/300\n209/209 - 1s - loss: 0.1207 - accuracy: 0.9644 - precision_6: 0.9695 - recall_6: 0.9600 - val_loss: 0.1217 - val_accuracy: 0.9628 - val_precision_6: 0.9709 - val_recall_6: 0.9586\nEpoch 133/300\n209/209 - 1s - loss: 0.1168 - accuracy: 0.9664 - precision_6: 0.9714 - recall_6: 0.9620 - val_loss: 0.1240 - val_accuracy: 0.9660 - val_precision_6: 0.9702 - val_recall_6: 0.9625\nEpoch 134/300\n209/209 - 1s - loss: 0.1172 - accuracy: 0.9661 - precision_6: 0.9707 - recall_6: 0.9618 - val_loss: 0.1224 - val_accuracy: 0.9669 - val_precision_6: 0.9718 - val_recall_6: 0.9628\nEpoch 135/300\n209/209 - 1s - loss: 0.1160 - accuracy: 0.9660 - precision_6: 0.9711 - recall_6: 0.9617 - val_loss: 0.1198 - val_accuracy: 0.9666 - val_precision_6: 0.9703 - val_recall_6: 0.9642\nEpoch 136/300\n209/209 - 1s - loss: 0.1163 - accuracy: 0.9656 - precision_6: 0.9709 - recall_6: 0.9617 - val_loss: 0.1240 - val_accuracy: 0.9671 - val_precision_6: 0.9713 - val_recall_6: 0.9628\nEpoch 137/300\n209/209 - 1s - loss: 0.1151 - accuracy: 0.9673 - precision_6: 0.9723 - recall_6: 0.9629 - val_loss: 0.1387 - val_accuracy: 0.9581 - val_precision_6: 0.9697 - val_recall_6: 0.9484\nEpoch 138/300\n209/209 - 1s - loss: 0.1162 - accuracy: 0.9662 - precision_6: 0.9715 - recall_6: 0.9622 - val_loss: 0.1190 - val_accuracy: 0.9683 - val_precision_6: 0.9724 - val_recall_6: 0.9638\nEpoch 139/300\n209/209 - 1s - loss: 0.1147 - accuracy: 0.9662 - precision_6: 0.9715 - recall_6: 0.9622 - val_loss: 0.1215 - val_accuracy: 0.9660 - val_precision_6: 0.9710 - val_recall_6: 0.9604\nEpoch 140/300\n209/209 - 1s - loss: 0.1169 - accuracy: 0.9652 - precision_6: 0.9704 - recall_6: 0.9611 - val_loss: 0.1215 - val_accuracy: 0.9674 - val_precision_6: 0.9716 - val_recall_6: 0.9635\nEpoch 141/300\n209/209 - 1s - loss: 0.1147 - accuracy: 0.9663 - precision_6: 0.9716 - recall_6: 0.9621 - val_loss: 0.1219 - val_accuracy: 0.9674 - val_precision_6: 0.9718 - val_recall_6: 0.9635\nEpoch 142/300\n209/209 - 1s - loss: 0.1128 - accuracy: 0.9672 - precision_6: 0.9719 - recall_6: 0.9634 - val_loss: 0.1230 - val_accuracy: 0.9639 - val_precision_6: 0.9680 - val_recall_6: 0.9610\nEpoch 143/300\n209/209 - 1s - loss: 0.1141 - accuracy: 0.9667 - precision_6: 0.9718 - recall_6: 0.9629 - val_loss: 0.1239 - val_accuracy: 0.9636 - val_precision_6: 0.9704 - val_recall_6: 0.9594\nEpoch 144/300\n209/209 - 1s - loss: 0.1142 - accuracy: 0.9661 - precision_6: 0.9712 - recall_6: 0.9621 - val_loss: 0.1199 - val_accuracy: 0.9683 - val_precision_6: 0.9719 - val_recall_6: 0.9664\nEpoch 145/300\n209/209 - 1s - loss: 0.1140 - accuracy: 0.9666 - precision_6: 0.9715 - recall_6: 0.9627 - val_loss: 0.1269 - val_accuracy: 0.9665 - val_precision_6: 0.9710 - val_recall_6: 0.9618\nEpoch 146/300\n209/209 - 1s - loss: 0.1140 - accuracy: 0.9668 - precision_6: 0.9715 - recall_6: 0.9629 - val_loss: 0.1217 - val_accuracy: 0.9659 - val_precision_6: 0.9719 - val_recall_6: 0.9616\nEpoch 147/300\n209/209 - 1s - loss: 0.1132 - accuracy: 0.9672 - precision_6: 0.9718 - recall_6: 0.9635 - val_loss: 0.1248 - val_accuracy: 0.9643 - val_precision_6: 0.9689 - val_recall_6: 0.9595\nEpoch 148/300\n209/209 - 1s - loss: 0.1134 - accuracy: 0.9670 - precision_6: 0.9717 - recall_6: 0.9628 - val_loss: 0.1185 - val_accuracy: 0.9693 - val_precision_6: 0.9728 - val_recall_6: 0.9640\nEpoch 149/300\n209/209 - 1s - loss: 0.1140 - accuracy: 0.9661 - precision_6: 0.9710 - recall_6: 0.9621 - val_loss: 0.1254 - val_accuracy: 0.9639 - val_precision_6: 0.9698 - val_recall_6: 0.9609\nEpoch 150/300\n209/209 - 1s - loss: 0.1134 - accuracy: 0.9663 - precision_6: 0.9711 - recall_6: 0.9625 - val_loss: 0.1193 - val_accuracy: 0.9661 - val_precision_6: 0.9699 - val_recall_6: 0.9635\nEpoch 151/300\n209/209 - 1s - loss: 0.1134 - accuracy: 0.9667 - precision_6: 0.9715 - recall_6: 0.9625 - val_loss: 0.1207 - val_accuracy: 0.9695 - val_precision_6: 0.9734 - val_recall_6: 0.9671\nEpoch 152/300\n209/209 - 1s - loss: 0.1133 - accuracy: 0.9668 - precision_6: 0.9713 - recall_6: 0.9631 - val_loss: 0.1193 - val_accuracy: 0.9682 - val_precision_6: 0.9716 - val_recall_6: 0.9664\nEpoch 153/300\n209/209 - 1s - loss: 0.1134 - accuracy: 0.9663 - precision_6: 0.9709 - recall_6: 0.9626 - val_loss: 0.1269 - val_accuracy: 0.9650 - val_precision_6: 0.9683 - val_recall_6: 0.9629\nEpoch 154/300\n209/209 - 1s - loss: 0.1129 - accuracy: 0.9665 - precision_6: 0.9712 - recall_6: 0.9626 - val_loss: 0.1162 - val_accuracy: 0.9677 - val_precision_6: 0.9705 - val_recall_6: 0.9649\nEpoch 155/300\n209/209 - 1s - loss: 0.1109 - accuracy: 0.9675 - precision_6: 0.9719 - recall_6: 0.9639 - val_loss: 0.1195 - val_accuracy: 0.9686 - val_precision_6: 0.9728 - val_recall_6: 0.9655\nEpoch 156/300\n209/209 - 1s - loss: 0.1112 - accuracy: 0.9675 - precision_6: 0.9721 - recall_6: 0.9641 - val_loss: 0.1168 - val_accuracy: 0.9693 - val_precision_6: 0.9741 - val_recall_6: 0.9656\nEpoch 157/300\n209/209 - 1s - loss: 0.1108 - accuracy: 0.9674 - precision_6: 0.9722 - recall_6: 0.9637 - val_loss: 0.1200 - val_accuracy: 0.9674 - val_precision_6: 0.9726 - val_recall_6: 0.9643\nEpoch 158/300\n209/209 - 1s - loss: 0.1131 - accuracy: 0.9666 - precision_6: 0.9711 - recall_6: 0.9629 - val_loss: 0.1194 - val_accuracy: 0.9692 - val_precision_6: 0.9727 - val_recall_6: 0.9668\nEpoch 159/300\n209/209 - 1s - loss: 0.1112 - accuracy: 0.9674 - precision_6: 0.9717 - recall_6: 0.9638 - val_loss: 0.1159 - val_accuracy: 0.9704 - val_precision_6: 0.9738 - val_recall_6: 0.9664\nEpoch 160/300\n209/209 - 1s - loss: 0.1118 - accuracy: 0.9678 - precision_6: 0.9723 - recall_6: 0.9641 - val_loss: 0.1167 - val_accuracy: 0.9713 - val_precision_6: 0.9758 - val_recall_6: 0.9666\nEpoch 161/300\n209/209 - 1s - loss: 0.1132 - accuracy: 0.9663 - precision_6: 0.9709 - recall_6: 0.9625 - val_loss: 0.1193 - val_accuracy: 0.9685 - val_precision_6: 0.9732 - val_recall_6: 0.9667\nEpoch 162/300\n209/209 - 1s - loss: 0.1107 - accuracy: 0.9676 - precision_6: 0.9722 - recall_6: 0.9643 - val_loss: 0.1251 - val_accuracy: 0.9649 - val_precision_6: 0.9692 - val_recall_6: 0.9629\nEpoch 163/300\n209/209 - 1s - loss: 0.1111 - accuracy: 0.9673 - precision_6: 0.9717 - recall_6: 0.9632 - val_loss: 0.1269 - val_accuracy: 0.9664 - val_precision_6: 0.9720 - val_recall_6: 0.9617\nEpoch 164/300\n209/209 - 1s - loss: 0.1101 - accuracy: 0.9676 - precision_6: 0.9725 - recall_6: 0.9639 - val_loss: 0.1216 - val_accuracy: 0.9679 - val_precision_6: 0.9723 - val_recall_6: 0.9646\nEpoch 165/300\n209/209 - 1s - loss: 0.1109 - accuracy: 0.9672 - precision_6: 0.9719 - recall_6: 0.9636 - val_loss: 0.1144 - val_accuracy: 0.9703 - val_precision_6: 0.9757 - val_recall_6: 0.9664\nEpoch 166/300\n209/209 - 1s - loss: 0.1108 - accuracy: 0.9667 - precision_6: 0.9711 - recall_6: 0.9629 - val_loss: 0.1128 - val_accuracy: 0.9708 - val_precision_6: 0.9753 - val_recall_6: 0.9665\nEpoch 167/300\n209/209 - 1s - loss: 0.1093 - accuracy: 0.9680 - precision_6: 0.9725 - recall_6: 0.9646 - val_loss: 0.1222 - val_accuracy: 0.9668 - val_precision_6: 0.9711 - val_recall_6: 0.9635\nEpoch 168/300\n209/209 - 1s - loss: 0.1090 - accuracy: 0.9681 - precision_6: 0.9723 - recall_6: 0.9648 - val_loss: 0.1154 - val_accuracy: 0.9681 - val_precision_6: 0.9724 - val_recall_6: 0.9657\nEpoch 169/300\n209/209 - 1s - loss: 0.1075 - accuracy: 0.9688 - precision_6: 0.9733 - recall_6: 0.9654 - val_loss: 0.1162 - val_accuracy: 0.9667 - val_precision_6: 0.9725 - val_recall_6: 0.9628\nEpoch 170/300\n209/209 - 1s - loss: 0.1098 - accuracy: 0.9678 - precision_6: 0.9720 - recall_6: 0.9640 - val_loss: 0.1302 - val_accuracy: 0.9574 - val_precision_6: 0.9629 - val_recall_6: 0.9548\nEpoch 171/300\n209/209 - 1s - loss: 0.1063 - accuracy: 0.9689 - precision_6: 0.9731 - recall_6: 0.9656 - val_loss: 0.1175 - val_accuracy: 0.9703 - val_precision_6: 0.9751 - val_recall_6: 0.9670\nEpoch 172/300\n209/209 - 1s - loss: 0.1079 - accuracy: 0.9683 - precision_6: 0.9726 - recall_6: 0.9650 - val_loss: 0.1215 - val_accuracy: 0.9641 - val_precision_6: 0.9677 - val_recall_6: 0.9616\nEpoch 173/300\n209/209 - 1s - loss: 0.1080 - accuracy: 0.9681 - precision_6: 0.9723 - recall_6: 0.9649 - val_loss: 0.1199 - val_accuracy: 0.9689 - val_precision_6: 0.9730 - val_recall_6: 0.9632\nEpoch 174/300\n209/209 - 1s - loss: 0.1104 - accuracy: 0.9679 - precision_6: 0.9718 - recall_6: 0.9643 - val_loss: 0.1234 - val_accuracy: 0.9629 - val_precision_6: 0.9688 - val_recall_6: 0.9582\nEpoch 175/300\n209/209 - 1s - loss: 0.1078 - accuracy: 0.9686 - precision_6: 0.9727 - recall_6: 0.9650 - val_loss: 0.1132 - val_accuracy: 0.9721 - val_precision_6: 0.9760 - val_recall_6: 0.9683\nEpoch 176/300\n209/209 - 1s - loss: 0.1065 - accuracy: 0.9689 - precision_6: 0.9729 - recall_6: 0.9657 - val_loss: 0.1229 - val_accuracy: 0.9640 - val_precision_6: 0.9697 - val_recall_6: 0.9592\nEpoch 177/300\n209/209 - 1s - loss: 0.1061 - accuracy: 0.9696 - precision_6: 0.9737 - recall_6: 0.9662 - val_loss: 0.1153 - val_accuracy: 0.9661 - val_precision_6: 0.9712 - val_recall_6: 0.9638\nEpoch 178/300\n209/209 - 1s - loss: 0.1075 - accuracy: 0.9682 - precision_6: 0.9726 - recall_6: 0.9648 - val_loss: 0.1155 - val_accuracy: 0.9676 - val_precision_6: 0.9724 - val_recall_6: 0.9641\nEpoch 179/300\n209/209 - 1s - loss: 0.1068 - accuracy: 0.9692 - precision_6: 0.9730 - recall_6: 0.9659 - val_loss: 0.1254 - val_accuracy: 0.9652 - val_precision_6: 0.9690 - val_recall_6: 0.9617\nEpoch 180/300\n209/209 - 1s - loss: 0.1075 - accuracy: 0.9685 - precision_6: 0.9724 - recall_6: 0.9649 - val_loss: 0.1169 - val_accuracy: 0.9704 - val_precision_6: 0.9738 - val_recall_6: 0.9669\nEpoch 181/300\n209/209 - 1s - loss: 0.1052 - accuracy: 0.9695 - precision_6: 0.9728 - recall_6: 0.9660 - val_loss: 0.1115 - val_accuracy: 0.9716 - val_precision_6: 0.9762 - val_recall_6: 0.9688\nEpoch 182/300\n209/209 - 1s - loss: 0.1069 - accuracy: 0.9688 - precision_6: 0.9729 - recall_6: 0.9652 - val_loss: 0.1218 - val_accuracy: 0.9648 - val_precision_6: 0.9682 - val_recall_6: 0.9627\nEpoch 183/300\n209/209 - 1s - loss: 0.1065 - accuracy: 0.9680 - precision_6: 0.9720 - recall_6: 0.9645 - val_loss: 0.1179 - val_accuracy: 0.9686 - val_precision_6: 0.9725 - val_recall_6: 0.9652\nEpoch 184/300\n209/209 - 1s - loss: 0.1059 - accuracy: 0.9693 - precision_6: 0.9730 - recall_6: 0.9661 - val_loss: 0.1163 - val_accuracy: 0.9688 - val_precision_6: 0.9744 - val_recall_6: 0.9643\nEpoch 185/300\n209/209 - 1s - loss: 0.1073 - accuracy: 0.9683 - precision_6: 0.9722 - recall_6: 0.9651 - val_loss: 0.1160 - val_accuracy: 0.9719 - val_precision_6: 0.9763 - val_recall_6: 0.9661\nEpoch 186/300\n209/209 - 1s - loss: 0.1072 - accuracy: 0.9683 - precision_6: 0.9722 - recall_6: 0.9647 - val_loss: 0.1122 - val_accuracy: 0.9722 - val_precision_6: 0.9762 - val_recall_6: 0.9693\nEpoch 187/300\n209/209 - 1s - loss: 0.1076 - accuracy: 0.9683 - precision_6: 0.9723 - recall_6: 0.9650 - val_loss: 0.1168 - val_accuracy: 0.9691 - val_precision_6: 0.9729 - val_recall_6: 0.9664\nEpoch 188/300\n209/209 - 1s - loss: 0.1054 - accuracy: 0.9688 - precision_6: 0.9732 - recall_6: 0.9656 - val_loss: 0.1115 - val_accuracy: 0.9711 - val_precision_6: 0.9760 - val_recall_6: 0.9674\nEpoch 189/300\n209/209 - 1s - loss: 0.1050 - accuracy: 0.9694 - precision_6: 0.9733 - recall_6: 0.9662 - val_loss: 0.1132 - val_accuracy: 0.9682 - val_precision_6: 0.9719 - val_recall_6: 0.9650\nEpoch 190/300\n209/209 - 1s - loss: 0.1034 - accuracy: 0.9701 - precision_6: 0.9737 - recall_6: 0.9670 - val_loss: 0.1130 - val_accuracy: 0.9703 - val_precision_6: 0.9738 - val_recall_6: 0.9678\nEpoch 191/300\n209/209 - 1s - loss: 0.1068 - accuracy: 0.9687 - precision_6: 0.9726 - recall_6: 0.9655 - val_loss: 0.1149 - val_accuracy: 0.9665 - val_precision_6: 0.9709 - val_recall_6: 0.9645\nEpoch 192/300\n209/209 - 1s - loss: 0.1030 - accuracy: 0.9704 - precision_6: 0.9739 - recall_6: 0.9672 - val_loss: 0.1125 - val_accuracy: 0.9704 - val_precision_6: 0.9745 - val_recall_6: 0.9683\nEpoch 193/300\n209/209 - 1s - loss: 0.1034 - accuracy: 0.9700 - precision_6: 0.9737 - recall_6: 0.9666 - val_loss: 0.1121 - val_accuracy: 0.9685 - val_precision_6: 0.9718 - val_recall_6: 0.9654\nEpoch 194/300\n209/209 - 1s - loss: 0.1037 - accuracy: 0.9696 - precision_6: 0.9732 - recall_6: 0.9658 - val_loss: 0.1156 - val_accuracy: 0.9657 - val_precision_6: 0.9689 - val_recall_6: 0.9622\nEpoch 195/300\n209/209 - 1s - loss: 0.1045 - accuracy: 0.9692 - precision_6: 0.9731 - recall_6: 0.9657 - val_loss: 0.1137 - val_accuracy: 0.9717 - val_precision_6: 0.9764 - val_recall_6: 0.9689\nEpoch 196/300\n209/209 - 1s - loss: 0.1029 - accuracy: 0.9703 - precision_6: 0.9740 - recall_6: 0.9670 - val_loss: 0.1122 - val_accuracy: 0.9700 - val_precision_6: 0.9742 - val_recall_6: 0.9682\nEpoch 197/300\n209/209 - 1s - loss: 0.1053 - accuracy: 0.9692 - precision_6: 0.9730 - recall_6: 0.9658 - val_loss: 0.1161 - val_accuracy: 0.9676 - val_precision_6: 0.9716 - val_recall_6: 0.9642\nEpoch 198/300\n209/209 - 1s - loss: 0.1052 - accuracy: 0.9689 - precision_6: 0.9729 - recall_6: 0.9656 - val_loss: 0.1200 - val_accuracy: 0.9683 - val_precision_6: 0.9713 - val_recall_6: 0.9664\nEpoch 199/300\n209/209 - 1s - loss: 0.1030 - accuracy: 0.9700 - precision_6: 0.9737 - recall_6: 0.9669 - val_loss: 0.1127 - val_accuracy: 0.9708 - val_precision_6: 0.9752 - val_recall_6: 0.9679\nEpoch 200/300\n209/209 - 1s - loss: 0.1043 - accuracy: 0.9701 - precision_6: 0.9741 - recall_6: 0.9668 - val_loss: 0.1122 - val_accuracy: 0.9697 - val_precision_6: 0.9748 - val_recall_6: 0.9669\nEpoch 201/300\n209/209 - 1s - loss: 0.1054 - accuracy: 0.9696 - precision_6: 0.9728 - recall_6: 0.9664 - val_loss: 0.1126 - val_accuracy: 0.9704 - val_precision_6: 0.9738 - val_recall_6: 0.9664\nEpoch 202/300\n209/209 - 1s - loss: 0.1041 - accuracy: 0.9695 - precision_6: 0.9731 - recall_6: 0.9666 - val_loss: 0.1113 - val_accuracy: 0.9725 - val_precision_6: 0.9770 - val_recall_6: 0.9683\nEpoch 203/300\n209/209 - 1s - loss: 0.1047 - accuracy: 0.9691 - precision_6: 0.9727 - recall_6: 0.9661 - val_loss: 0.1169 - val_accuracy: 0.9671 - val_precision_6: 0.9720 - val_recall_6: 0.9632\nEpoch 204/300\n209/209 - 1s - loss: 0.1052 - accuracy: 0.9688 - precision_6: 0.9725 - recall_6: 0.9660 - val_loss: 0.1146 - val_accuracy: 0.9681 - val_precision_6: 0.9718 - val_recall_6: 0.9657\nEpoch 205/300\n209/209 - 1s - loss: 0.1033 - accuracy: 0.9705 - precision_6: 0.9741 - recall_6: 0.9673 - val_loss: 0.1263 - val_accuracy: 0.9644 - val_precision_6: 0.9686 - val_recall_6: 0.9603\nEpoch 206/300\n209/209 - 1s - loss: 0.1012 - accuracy: 0.9707 - precision_6: 0.9746 - recall_6: 0.9676 - val_loss: 0.1158 - val_accuracy: 0.9686 - val_precision_6: 0.9736 - val_recall_6: 0.9653\nEpoch 207/300\n209/209 - 1s - loss: 0.1037 - accuracy: 0.9698 - precision_6: 0.9733 - recall_6: 0.9665 - val_loss: 0.1158 - val_accuracy: 0.9663 - val_precision_6: 0.9717 - val_recall_6: 0.9632\nEpoch 208/300\n209/209 - 1s - loss: 0.1032 - accuracy: 0.9700 - precision_6: 0.9741 - recall_6: 0.9671 - val_loss: 0.1118 - val_accuracy: 0.9711 - val_precision_6: 0.9747 - val_recall_6: 0.9685\nEpoch 209/300\n209/209 - 1s - loss: 0.1026 - accuracy: 0.9700 - precision_6: 0.9736 - recall_6: 0.9669 - val_loss: 0.1164 - val_accuracy: 0.9658 - val_precision_6: 0.9709 - val_recall_6: 0.9611\nEpoch 210/300\n209/209 - 1s - loss: 0.1047 - accuracy: 0.9692 - precision_6: 0.9728 - recall_6: 0.9660 - val_loss: 0.1149 - val_accuracy: 0.9691 - val_precision_6: 0.9732 - val_recall_6: 0.9656\nEpoch 211/300\n209/209 - 1s - loss: 0.1031 - accuracy: 0.9700 - precision_6: 0.9737 - recall_6: 0.9669 - val_loss: 0.1145 - val_accuracy: 0.9682 - val_precision_6: 0.9731 - val_recall_6: 0.9658\nEpoch 212/300\n209/209 - 1s - loss: 0.1022 - accuracy: 0.9700 - precision_6: 0.9738 - recall_6: 0.9670 - val_loss: 0.1166 - val_accuracy: 0.9688 - val_precision_6: 0.9723 - val_recall_6: 0.9665\nEpoch 213/300\n209/209 - 1s - loss: 0.1013 - accuracy: 0.9708 - precision_6: 0.9747 - recall_6: 0.9680 - val_loss: 0.1132 - val_accuracy: 0.9704 - val_precision_6: 0.9760 - val_recall_6: 0.9671\nEpoch 214/300\n209/209 - 1s - loss: 0.1034 - accuracy: 0.9699 - precision_6: 0.9735 - recall_6: 0.9668 - val_loss: 0.1251 - val_accuracy: 0.9657 - val_precision_6: 0.9700 - val_recall_6: 0.9614\nEpoch 215/300\n209/209 - 1s - loss: 0.1050 - accuracy: 0.9693 - precision_6: 0.9728 - recall_6: 0.9661 - val_loss: 0.1184 - val_accuracy: 0.9679 - val_precision_6: 0.9723 - val_recall_6: 0.9628\nEpoch 216/300\n209/209 - 1s - loss: 0.1011 - accuracy: 0.9707 - precision_6: 0.9744 - recall_6: 0.9678 - val_loss: 0.1078 - val_accuracy: 0.9717 - val_precision_6: 0.9751 - val_recall_6: 0.9686\nEpoch 217/300\n209/209 - 1s - loss: 0.1029 - accuracy: 0.9695 - precision_6: 0.9734 - recall_6: 0.9665 - val_loss: 0.1167 - val_accuracy: 0.9678 - val_precision_6: 0.9720 - val_recall_6: 0.9653\nEpoch 218/300\n209/209 - 1s - loss: 0.1012 - accuracy: 0.9703 - precision_6: 0.9742 - recall_6: 0.9676 - val_loss: 0.1220 - val_accuracy: 0.9673 - val_precision_6: 0.9702 - val_recall_6: 0.9648\nEpoch 219/300\n209/209 - 1s - loss: 0.1019 - accuracy: 0.9700 - precision_6: 0.9734 - recall_6: 0.9673 - val_loss: 0.1097 - val_accuracy: 0.9736 - val_precision_6: 0.9766 - val_recall_6: 0.9692\nEpoch 220/300\n209/209 - 1s - loss: 0.1007 - accuracy: 0.9710 - precision_6: 0.9744 - recall_6: 0.9680 - val_loss: 0.1150 - val_accuracy: 0.9692 - val_precision_6: 0.9733 - val_recall_6: 0.9669\nEpoch 221/300\n209/209 - 1s - loss: 0.1010 - accuracy: 0.9706 - precision_6: 0.9742 - recall_6: 0.9676 - val_loss: 0.1090 - val_accuracy: 0.9718 - val_precision_6: 0.9753 - val_recall_6: 0.9696\nEpoch 222/300\n209/209 - 1s - loss: 0.1016 - accuracy: 0.9698 - precision_6: 0.9737 - recall_6: 0.9666 - val_loss: 0.1129 - val_accuracy: 0.9692 - val_precision_6: 0.9723 - val_recall_6: 0.9664\nEpoch 223/300\n209/209 - 1s - loss: 0.1011 - accuracy: 0.9705 - precision_6: 0.9741 - recall_6: 0.9676 - val_loss: 0.1223 - val_accuracy: 0.9678 - val_precision_6: 0.9714 - val_recall_6: 0.9655\nEpoch 224/300\n209/209 - 1s - loss: 0.1023 - accuracy: 0.9701 - precision_6: 0.9737 - recall_6: 0.9671 - val_loss: 0.1129 - val_accuracy: 0.9704 - val_precision_6: 0.9732 - val_recall_6: 0.9685\nEpoch 225/300\n209/209 - 1s - loss: 0.1005 - accuracy: 0.9711 - precision_6: 0.9746 - recall_6: 0.9683 - val_loss: 0.1110 - val_accuracy: 0.9696 - val_precision_6: 0.9728 - val_recall_6: 0.9672\nEpoch 226/300\n209/209 - 1s - loss: 0.1019 - accuracy: 0.9702 - precision_6: 0.9738 - recall_6: 0.9671 - val_loss: 0.1080 - val_accuracy: 0.9724 - val_precision_6: 0.9756 - val_recall_6: 0.9705\nEpoch 227/300\n209/209 - 1s - loss: 0.1000 - accuracy: 0.9711 - precision_6: 0.9746 - recall_6: 0.9680 - val_loss: 0.1164 - val_accuracy: 0.9671 - val_precision_6: 0.9704 - val_recall_6: 0.9651\nEpoch 228/300\n209/209 - 1s - loss: 0.1021 - accuracy: 0.9697 - precision_6: 0.9732 - recall_6: 0.9669 - val_loss: 0.1104 - val_accuracy: 0.9706 - val_precision_6: 0.9730 - val_recall_6: 0.9689\nEpoch 229/300\n209/209 - 1s - loss: 0.0993 - accuracy: 0.9711 - precision_6: 0.9746 - recall_6: 0.9682 - val_loss: 0.1118 - val_accuracy: 0.9696 - val_precision_6: 0.9730 - val_recall_6: 0.9675\nEpoch 230/300\n209/209 - 1s - loss: 0.0998 - accuracy: 0.9713 - precision_6: 0.9745 - recall_6: 0.9683 - val_loss: 0.1131 - val_accuracy: 0.9700 - val_precision_6: 0.9756 - val_recall_6: 0.9665\nEpoch 231/300\n209/209 - 1s - loss: 0.1001 - accuracy: 0.9712 - precision_6: 0.9745 - recall_6: 0.9681 - val_loss: 0.1311 - val_accuracy: 0.9637 - val_precision_6: 0.9673 - val_recall_6: 0.9607\nEpoch 232/300\n209/209 - 1s - loss: 0.1022 - accuracy: 0.9699 - precision_6: 0.9731 - recall_6: 0.9668 - val_loss: 0.1113 - val_accuracy: 0.9696 - val_precision_6: 0.9727 - val_recall_6: 0.9674\nEpoch 233/300\n209/209 - 1s - loss: 0.1010 - accuracy: 0.9704 - precision_6: 0.9739 - recall_6: 0.9678 - val_loss: 0.1130 - val_accuracy: 0.9694 - val_precision_6: 0.9728 - val_recall_6: 0.9666\nEpoch 234/300\n209/209 - 1s - loss: 0.1006 - accuracy: 0.9703 - precision_6: 0.9733 - recall_6: 0.9675 - val_loss: 0.1099 - val_accuracy: 0.9712 - val_precision_6: 0.9738 - val_recall_6: 0.9700\nEpoch 235/300\n209/209 - 1s - loss: 0.0996 - accuracy: 0.9709 - precision_6: 0.9744 - recall_6: 0.9682 - val_loss: 0.1120 - val_accuracy: 0.9679 - val_precision_6: 0.9719 - val_recall_6: 0.9653\nEpoch 236/300\n209/209 - 1s - loss: 0.1013 - accuracy: 0.9701 - precision_6: 0.9735 - recall_6: 0.9673 - val_loss: 0.1109 - val_accuracy: 0.9706 - val_precision_6: 0.9739 - val_recall_6: 0.9680\nEpoch 237/300\n209/209 - 1s - loss: 0.1016 - accuracy: 0.9706 - precision_6: 0.9739 - recall_6: 0.9677 - val_loss: 0.1169 - val_accuracy: 0.9650 - val_precision_6: 0.9691 - val_recall_6: 0.9621\nEpoch 238/300\n209/209 - 1s - loss: 0.0995 - accuracy: 0.9713 - precision_6: 0.9748 - recall_6: 0.9683 - val_loss: 0.1155 - val_accuracy: 0.9693 - val_precision_6: 0.9727 - val_recall_6: 0.9674\nEpoch 239/300\n209/209 - 1s - loss: 0.0993 - accuracy: 0.9712 - precision_6: 0.9745 - recall_6: 0.9682 - val_loss: 0.1142 - val_accuracy: 0.9679 - val_precision_6: 0.9715 - val_recall_6: 0.9646\nEpoch 240/300\n209/209 - 1s - loss: 0.1015 - accuracy: 0.9695 - precision_6: 0.9730 - recall_6: 0.9670 - val_loss: 0.1156 - val_accuracy: 0.9687 - val_precision_6: 0.9731 - val_recall_6: 0.9653\nEpoch 241/300\n209/209 - 1s - loss: 0.1009 - accuracy: 0.9702 - precision_6: 0.9735 - recall_6: 0.9673 - val_loss: 0.1094 - val_accuracy: 0.9708 - val_precision_6: 0.9745 - val_recall_6: 0.9678\nEpoch 242/300\n209/209 - 1s - loss: 0.1021 - accuracy: 0.9695 - precision_6: 0.9729 - recall_6: 0.9667 - val_loss: 0.1142 - val_accuracy: 0.9698 - val_precision_6: 0.9731 - val_recall_6: 0.9679\nEpoch 243/300\n209/209 - 1s - loss: 0.0996 - accuracy: 0.9709 - precision_6: 0.9743 - recall_6: 0.9678 - val_loss: 0.1154 - val_accuracy: 0.9698 - val_precision_6: 0.9728 - val_recall_6: 0.9667\nEpoch 244/300\n209/209 - 1s - loss: 0.0982 - accuracy: 0.9710 - precision_6: 0.9746 - recall_6: 0.9683 - val_loss: 0.1092 - val_accuracy: 0.9701 - val_precision_6: 0.9736 - val_recall_6: 0.9683\nEpoch 245/300\n209/209 - 1s - loss: 0.1029 - accuracy: 0.9696 - precision_6: 0.9730 - recall_6: 0.9668 - val_loss: 0.1134 - val_accuracy: 0.9686 - val_precision_6: 0.9721 - val_recall_6: 0.9663\nEpoch 246/300\n209/209 - 1s - loss: 0.0980 - accuracy: 0.9715 - precision_6: 0.9747 - recall_6: 0.9688 - val_loss: 0.1092 - val_accuracy: 0.9706 - val_precision_6: 0.9737 - val_recall_6: 0.9689\nEpoch 247/300\n209/209 - 1s - loss: 0.1008 - accuracy: 0.9703 - precision_6: 0.9737 - recall_6: 0.9678 - val_loss: 0.1102 - val_accuracy: 0.9696 - val_precision_6: 0.9735 - val_recall_6: 0.9660\nEpoch 248/300\n209/209 - 1s - loss: 0.1001 - accuracy: 0.9705 - precision_6: 0.9738 - recall_6: 0.9678 - val_loss: 0.1112 - val_accuracy: 0.9703 - val_precision_6: 0.9736 - val_recall_6: 0.9682\nEpoch 249/300\n209/209 - 1s - loss: 0.0983 - accuracy: 0.9709 - precision_6: 0.9745 - recall_6: 0.9679 - val_loss: 0.1076 - val_accuracy: 0.9726 - val_precision_6: 0.9752 - val_recall_6: 0.9710\nEpoch 250/300\n209/209 - 1s - loss: 0.0989 - accuracy: 0.9708 - precision_6: 0.9740 - recall_6: 0.9679 - val_loss: 0.1177 - val_accuracy: 0.9676 - val_precision_6: 0.9712 - val_recall_6: 0.9654\nEpoch 251/300\n209/209 - 1s - loss: 0.0974 - accuracy: 0.9718 - precision_6: 0.9749 - recall_6: 0.9693 - val_loss: 0.1080 - val_accuracy: 0.9710 - val_precision_6: 0.9741 - val_recall_6: 0.9692\nEpoch 252/300\n209/209 - 1s - loss: 0.0992 - accuracy: 0.9710 - precision_6: 0.9744 - recall_6: 0.9682 - val_loss: 0.1122 - val_accuracy: 0.9693 - val_precision_6: 0.9724 - val_recall_6: 0.9671\nEpoch 253/300\n209/209 - 1s - loss: 0.1001 - accuracy: 0.9704 - precision_6: 0.9738 - recall_6: 0.9681 - val_loss: 0.1175 - val_accuracy: 0.9696 - val_precision_6: 0.9723 - val_recall_6: 0.9682\nEpoch 254/300\n209/209 - 1s - loss: 0.0990 - accuracy: 0.9716 - precision_6: 0.9745 - recall_6: 0.9686 - val_loss: 0.1120 - val_accuracy: 0.9704 - val_precision_6: 0.9739 - val_recall_6: 0.9676\nEpoch 255/300\n209/209 - 1s - loss: 0.0985 - accuracy: 0.9709 - precision_6: 0.9739 - recall_6: 0.9682 - val_loss: 0.1106 - val_accuracy: 0.9707 - val_precision_6: 0.9746 - val_recall_6: 0.9685\nEpoch 256/300\n209/209 - 1s - loss: 0.0976 - accuracy: 0.9718 - precision_6: 0.9749 - recall_6: 0.9693 - val_loss: 0.1114 - val_accuracy: 0.9679 - val_precision_6: 0.9730 - val_recall_6: 0.9636\nEpoch 257/300\n209/209 - 1s - loss: 0.0990 - accuracy: 0.9709 - precision_6: 0.9740 - recall_6: 0.9682 - val_loss: 0.1161 - val_accuracy: 0.9693 - val_precision_6: 0.9722 - val_recall_6: 0.9662\nEpoch 258/300\n209/209 - 1s - loss: 0.1019 - accuracy: 0.9700 - precision_6: 0.9733 - recall_6: 0.9673 - val_loss: 0.1243 - val_accuracy: 0.9597 - val_precision_6: 0.9631 - val_recall_6: 0.9574\nEpoch 259/300\n209/209 - 1s - loss: 0.0988 - accuracy: 0.9714 - precision_6: 0.9741 - recall_6: 0.9683 - val_loss: 0.1128 - val_accuracy: 0.9704 - val_precision_6: 0.9734 - val_recall_6: 0.9678\nEpoch 260/300\n209/209 - 1s - loss: 0.1012 - accuracy: 0.9697 - precision_6: 0.9729 - recall_6: 0.9670 - val_loss: 0.1219 - val_accuracy: 0.9674 - val_precision_6: 0.9724 - val_recall_6: 0.9640\nEpoch 261/300\n209/209 - 1s - loss: 0.0996 - accuracy: 0.9708 - precision_6: 0.9741 - recall_6: 0.9681 - val_loss: 0.1081 - val_accuracy: 0.9712 - val_precision_6: 0.9749 - val_recall_6: 0.9685\nEpoch 262/300\n209/209 - 1s - loss: 0.0965 - accuracy: 0.9719 - precision_6: 0.9753 - recall_6: 0.9693 - val_loss: 0.1061 - val_accuracy: 0.9734 - val_precision_6: 0.9771 - val_recall_6: 0.9700\nEpoch 263/300\n209/209 - 1s - loss: 0.0975 - accuracy: 0.9715 - precision_6: 0.9746 - recall_6: 0.9687 - val_loss: 0.1100 - val_accuracy: 0.9693 - val_precision_6: 0.9733 - val_recall_6: 0.9664\nEpoch 264/300\n209/209 - 1s - loss: 0.0975 - accuracy: 0.9716 - precision_6: 0.9748 - recall_6: 0.9688 - val_loss: 0.1137 - val_accuracy: 0.9704 - val_precision_6: 0.9733 - val_recall_6: 0.9682\nEpoch 265/300\n209/209 - 1s - loss: 0.0965 - accuracy: 0.9720 - precision_6: 0.9749 - recall_6: 0.9694 - val_loss: 0.1065 - val_accuracy: 0.9725 - val_precision_6: 0.9750 - val_recall_6: 0.9702\nEpoch 266/300\n209/209 - 1s - loss: 0.0983 - accuracy: 0.9713 - precision_6: 0.9744 - recall_6: 0.9689 - val_loss: 0.1175 - val_accuracy: 0.9696 - val_precision_6: 0.9739 - val_recall_6: 0.9670\nEpoch 267/300\n209/209 - 1s - loss: 0.0986 - accuracy: 0.9709 - precision_6: 0.9740 - recall_6: 0.9683 - val_loss: 0.1119 - val_accuracy: 0.9695 - val_precision_6: 0.9738 - val_recall_6: 0.9675\nEpoch 268/300\n209/209 - 1s - loss: 0.0963 - accuracy: 0.9727 - precision_6: 0.9759 - recall_6: 0.9702 - val_loss: 0.1082 - val_accuracy: 0.9703 - val_precision_6: 0.9743 - val_recall_6: 0.9676\nEpoch 269/300\n209/209 - 1s - loss: 0.0965 - accuracy: 0.9721 - precision_6: 0.9752 - recall_6: 0.9693 - val_loss: 0.1088 - val_accuracy: 0.9708 - val_precision_6: 0.9752 - val_recall_6: 0.9676\nEpoch 270/300\n209/209 - 1s - loss: 0.0986 - accuracy: 0.9708 - precision_6: 0.9738 - recall_6: 0.9681 - val_loss: 0.1176 - val_accuracy: 0.9655 - val_precision_6: 0.9680 - val_recall_6: 0.9640\nEpoch 271/300\n209/209 - 1s - loss: 0.0976 - accuracy: 0.9710 - precision_6: 0.9744 - recall_6: 0.9681 - val_loss: 0.1202 - val_accuracy: 0.9668 - val_precision_6: 0.9693 - val_recall_6: 0.9650\nEpoch 272/300\n209/209 - 1s - loss: 0.0970 - accuracy: 0.9714 - precision_6: 0.9747 - recall_6: 0.9690 - val_loss: 0.1128 - val_accuracy: 0.9703 - val_precision_6: 0.9754 - val_recall_6: 0.9671\nEpoch 273/300\n209/209 - 1s - loss: 0.0970 - accuracy: 0.9717 - precision_6: 0.9745 - recall_6: 0.9689 - val_loss: 0.1088 - val_accuracy: 0.9722 - val_precision_6: 0.9752 - val_recall_6: 0.9701\nEpoch 274/300\n209/209 - 1s - loss: 0.0990 - accuracy: 0.9711 - precision_6: 0.9743 - recall_6: 0.9681 - val_loss: 0.1147 - val_accuracy: 0.9676 - val_precision_6: 0.9713 - val_recall_6: 0.9653\nEpoch 275/300\n209/209 - 1s - loss: 0.0983 - accuracy: 0.9710 - precision_6: 0.9743 - recall_6: 0.9683 - val_loss: 0.1066 - val_accuracy: 0.9717 - val_precision_6: 0.9751 - val_recall_6: 0.9692\nEpoch 276/300\n209/209 - 1s - loss: 0.0969 - accuracy: 0.9714 - precision_6: 0.9745 - recall_6: 0.9689 - val_loss: 0.1106 - val_accuracy: 0.9714 - val_precision_6: 0.9744 - val_recall_6: 0.9689\nEpoch 277/300\n209/209 - 1s - loss: 0.0968 - accuracy: 0.9717 - precision_6: 0.9747 - recall_6: 0.9693 - val_loss: 0.1096 - val_accuracy: 0.9689 - val_precision_6: 0.9740 - val_recall_6: 0.9648\nEpoch 278/300\n209/209 - 1s - loss: 0.0960 - accuracy: 0.9718 - precision_6: 0.9749 - recall_6: 0.9690 - val_loss: 0.1130 - val_accuracy: 0.9706 - val_precision_6: 0.9739 - val_recall_6: 0.9671\nEpoch 279/300\n209/209 - 1s - loss: 0.0967 - accuracy: 0.9715 - precision_6: 0.9745 - recall_6: 0.9689 - val_loss: 0.1086 - val_accuracy: 0.9717 - val_precision_6: 0.9752 - val_recall_6: 0.9681\nEpoch 280/300\n209/209 - 1s - loss: 0.0976 - accuracy: 0.9709 - precision_6: 0.9739 - recall_6: 0.9685 - val_loss: 0.1062 - val_accuracy: 0.9719 - val_precision_6: 0.9763 - val_recall_6: 0.9680\nEpoch 281/300\n209/209 - 1s - loss: 0.0966 - accuracy: 0.9718 - precision_6: 0.9747 - recall_6: 0.9690 - val_loss: 0.1086 - val_accuracy: 0.9712 - val_precision_6: 0.9744 - val_recall_6: 0.9689\nEpoch 282/300\n209/209 - 1s - loss: 0.0953 - accuracy: 0.9719 - precision_6: 0.9748 - recall_6: 0.9693 - val_loss: 0.1073 - val_accuracy: 0.9716 - val_precision_6: 0.9762 - val_recall_6: 0.9683\nEpoch 283/300\n209/209 - 1s - loss: 0.0957 - accuracy: 0.9724 - precision_6: 0.9755 - recall_6: 0.9700 - val_loss: 0.1069 - val_accuracy: 0.9725 - val_precision_6: 0.9749 - val_recall_6: 0.9706\nEpoch 284/300\n209/209 - 1s - loss: 0.0962 - accuracy: 0.9721 - precision_6: 0.9750 - recall_6: 0.9694 - val_loss: 0.1089 - val_accuracy: 0.9713 - val_precision_6: 0.9745 - val_recall_6: 0.9673\nEpoch 285/300\n209/209 - 1s - loss: 0.0963 - accuracy: 0.9715 - precision_6: 0.9747 - recall_6: 0.9689 - val_loss: 0.1066 - val_accuracy: 0.9728 - val_precision_6: 0.9754 - val_recall_6: 0.9706\nEpoch 286/300\n209/209 - 1s - loss: 0.0978 - accuracy: 0.9712 - precision_6: 0.9742 - recall_6: 0.9686 - val_loss: 0.1114 - val_accuracy: 0.9690 - val_precision_6: 0.9718 - val_recall_6: 0.9668\nEpoch 287/300\n209/209 - 1s - loss: 0.0970 - accuracy: 0.9712 - precision_6: 0.9741 - recall_6: 0.9685 - val_loss: 0.1061 - val_accuracy: 0.9739 - val_precision_6: 0.9783 - val_recall_6: 0.9707\nEpoch 288/300\n209/209 - 1s - loss: 0.0956 - accuracy: 0.9724 - precision_6: 0.9754 - recall_6: 0.9700 - val_loss: 0.1061 - val_accuracy: 0.9725 - val_precision_6: 0.9756 - val_recall_6: 0.9700\nEpoch 289/300\n209/209 - 1s - loss: 0.0956 - accuracy: 0.9729 - precision_6: 0.9758 - recall_6: 0.9703 - val_loss: 0.1127 - val_accuracy: 0.9700 - val_precision_6: 0.9726 - val_recall_6: 0.9677\nEpoch 290/300\n209/209 - 1s - loss: 0.0955 - accuracy: 0.9722 - precision_6: 0.9754 - recall_6: 0.9697 - val_loss: 0.1115 - val_accuracy: 0.9701 - val_precision_6: 0.9733 - val_recall_6: 0.9670\nEpoch 291/300\n209/209 - 1s - loss: 0.0971 - accuracy: 0.9717 - precision_6: 0.9746 - recall_6: 0.9692 - val_loss: 0.1111 - val_accuracy: 0.9714 - val_precision_6: 0.9738 - val_recall_6: 0.9688\nEpoch 292/300\n209/209 - 1s - loss: 0.0957 - accuracy: 0.9718 - precision_6: 0.9746 - recall_6: 0.9693 - val_loss: 0.1089 - val_accuracy: 0.9711 - val_precision_6: 0.9742 - val_recall_6: 0.9691\nEpoch 293/300\n209/209 - 1s - loss: 0.0950 - accuracy: 0.9722 - precision_6: 0.9750 - recall_6: 0.9699 - val_loss: 0.1097 - val_accuracy: 0.9721 - val_precision_6: 0.9747 - val_recall_6: 0.9695\nEpoch 294/300\n209/209 - 1s - loss: 0.0947 - accuracy: 0.9721 - precision_6: 0.9751 - recall_6: 0.9697 - val_loss: 0.1148 - val_accuracy: 0.9690 - val_precision_6: 0.9719 - val_recall_6: 0.9671\nEpoch 295/300\n209/209 - 1s - loss: 0.0956 - accuracy: 0.9725 - precision_6: 0.9755 - recall_6: 0.9700 - val_loss: 0.1204 - val_accuracy: 0.9658 - val_precision_6: 0.9722 - val_recall_6: 0.9632\nEpoch 296/300\n209/209 - 1s - loss: 0.0967 - accuracy: 0.9716 - precision_6: 0.9747 - recall_6: 0.9691 - val_loss: 0.1083 - val_accuracy: 0.9732 - val_precision_6: 0.9753 - val_recall_6: 0.9706\nEpoch 297/300\n209/209 - 1s - loss: 0.0944 - accuracy: 0.9728 - precision_6: 0.9758 - recall_6: 0.9704 - val_loss: 0.1051 - val_accuracy: 0.9726 - val_precision_6: 0.9748 - val_recall_6: 0.9707\nEpoch 298/300\n209/209 - 1s - loss: 0.0963 - accuracy: 0.9718 - precision_6: 0.9745 - recall_6: 0.9690 - val_loss: 0.1090 - val_accuracy: 0.9726 - val_precision_6: 0.9751 - val_recall_6: 0.9710\nEpoch 299/300\n209/209 - 1s - loss: 0.0962 - accuracy: 0.9715 - precision_6: 0.9745 - recall_6: 0.9692 - val_loss: 0.1136 - val_accuracy: 0.9676 - val_precision_6: 0.9710 - val_recall_6: 0.9653\nEpoch 300/300\n209/209 - 1s - loss: 0.0965 - accuracy: 0.9717 - precision_6: 0.9745 - recall_6: 0.9690 - val_loss: 0.1277 - val_accuracy: 0.9679 - val_precision_6: 0.9705 - val_recall_6: 0.9657\n",
          "output_type": "stream"
        }
      ],
      "execution_count": null
    },
    {
      "cell_type": "code",
      "source": [
        "print(\"Num GPUs Available: \", len(tf.config.list_physical_devices('GPU')))"
      ],
      "metadata": {
        "execution": {
          "iopub.status.busy": "2024-11-14T05:14:56.707705Z",
          "iopub.execute_input": "2024-11-14T05:14:56.708106Z",
          "iopub.status.idle": "2024-11-14T05:14:56.713283Z",
          "shell.execute_reply.started": "2024-11-14T05:14:56.708072Z",
          "shell.execute_reply": "2024-11-14T05:14:56.712354Z"
        },
        "trusted": true,
        "id": "DB1scLPLI1dT",
        "outputId": "470c7847-67de-4440-d16f-d2f15db1f5d5"
      },
      "outputs": [
        {
          "name": "stdout",
          "text": "Num GPUs Available:  1\n",
          "output_type": "stream"
        }
      ],
      "execution_count": null
    },
    {
      "cell_type": "code",
      "source": [
        "mean = sum(k.history['accuracy']) / len(k.history['accuracy'])\n",
        "variance = sum([((x - mean) ** 2) for x in k.history['accuracy']]) / len(k.history['accuracy'])\n",
        "res = variance ** 0.5\n",
        "print(\"Baseline Training Accuracy: %.2f%% (%.2f%%)\" % (mean*100, res*100))"
      ],
      "metadata": {
        "execution": {
          "iopub.status.busy": "2024-11-14T05:14:57.567262Z",
          "iopub.execute_input": "2024-11-14T05:14:57.568149Z",
          "iopub.status.idle": "2024-11-14T05:14:57.574265Z",
          "shell.execute_reply.started": "2024-11-14T05:14:57.568112Z",
          "shell.execute_reply": "2024-11-14T05:14:57.573437Z"
        },
        "trusted": true,
        "id": "ZLmmXAHCI1dT",
        "outputId": "cb94a410-ed04-4bbd-8bca-de6296eb959b"
      },
      "outputs": [
        {
          "name": "stdout",
          "text": "Baseline Training Accuracy: 96.09% (2.31%)\n",
          "output_type": "stream"
        }
      ],
      "execution_count": null
    },
    {
      "cell_type": "code",
      "source": [
        "mean = sum(k.history['val_accuracy']) / len(k.history['val_accuracy'])\n",
        "variance = sum([((x - mean) ** 2) for x in k.history['val_accuracy']]) / len(k.history['val_accuracy'])\n",
        "res = variance ** 0.5\n",
        "print(\"Baseline Validation Accuracy: %.2f%% (%.2f%%)\" % (mean*100, res*100))"
      ],
      "metadata": {
        "execution": {
          "iopub.status.busy": "2024-11-14T05:14:59.015637Z",
          "iopub.execute_input": "2024-11-14T05:14:59.016037Z",
          "iopub.status.idle": "2024-11-14T05:14:59.022448Z",
          "shell.execute_reply.started": "2024-11-14T05:14:59.016006Z",
          "shell.execute_reply": "2024-11-14T05:14:59.021629Z"
        },
        "trusted": true,
        "id": "7vI70V49I1dU",
        "outputId": "7c1e31f3-1d2a-4ee5-df14-b958efaadd67"
      },
      "outputs": [
        {
          "name": "stdout",
          "text": "Baseline Validation Accuracy: 96.17% (1.58%)\n",
          "output_type": "stream"
        }
      ],
      "execution_count": null
    },
    {
      "cell_type": "code",
      "source": [
        "for i in ['precision_6', 'val_precision_6']:\n",
        "    mean = sum(k.history[i]) / len(k.history[i])\n",
        "    variance = sum([((x - mean) ** 2) for x in k.history[i]]) / len(k.history[i])\n",
        "    res = variance ** 0.5\n",
        "    if i == 'precision_6':\n",
        "        print(f\"Baseline Model Precsion: %.2f%% (%.2f%%)\" % (mean*100, res*100))\n",
        "    elif i == 'val_precision_6':\n",
        "        print(f\"Baseline Model Validation Precsion: %.2f%% (%.2f%%)\" % (mean*100, res*100))"
      ],
      "metadata": {
        "trusted": true,
        "execution": {
          "iopub.status.busy": "2024-11-14T05:15:13.307149Z",
          "iopub.execute_input": "2024-11-14T05:15:13.308030Z",
          "iopub.status.idle": "2024-11-14T05:15:13.314516Z",
          "shell.execute_reply.started": "2024-11-14T05:15:13.307992Z",
          "shell.execute_reply": "2024-11-14T05:15:13.313639Z"
        },
        "id": "MdQ7jW3yI1dU",
        "outputId": "54ec6e6b-4e41-45f3-9b55-554cedb7c377"
      },
      "outputs": [
        {
          "name": "stdout",
          "text": "Baseline Model precision_6: 96.88% (1.07%)\nBaseline Model val_precision_6: 96.90% (0.87%)\n",
          "output_type": "stream"
        }
      ],
      "execution_count": null
    },
    {
      "cell_type": "code",
      "source": [
        "for i in ['recall_6', 'val_recall_6']:\n",
        "    mean = sum(k.history[i]) / len(k.history[i])\n",
        "    variance = sum([((x - mean) ** 2) for x in k.history[i]]) / len(k.history[i])\n",
        "    res = variance ** 0.5\n",
        "    if i == 'recall_6':\n",
        "        print(f\"Baseline Model Recall %.2f%% (%.2f%%)\" % (mean*100, res*100))\n",
        "    elif i == 'val_recall_6':\n",
        "        print(f\"Baseline Model Validation Recall: %.2f%% (%.2f%%)\" % (mean*100, res*100))"
      ],
      "metadata": {
        "trusted": true,
        "execution": {
          "iopub.status.busy": "2024-11-14T05:16:51.927359Z",
          "iopub.execute_input": "2024-11-14T05:16:51.928404Z",
          "iopub.status.idle": "2024-11-14T05:16:51.937261Z",
          "shell.execute_reply.started": "2024-11-14T05:16:51.928354Z",
          "shell.execute_reply": "2024-11-14T05:16:51.936342Z"
        },
        "id": "a1BAmBujI1dU",
        "outputId": "f06a701f-799b-48f8-ac41-5c247c68e606"
      },
      "outputs": [
        {
          "name": "stdout",
          "text": "Baseline Model Recall 95.41% (3.48%)\nBaseline Model Validation Recall: 95.55% (2.33%)\n",
          "output_type": "stream"
        }
      ],
      "execution_count": null
    },
    {
      "cell_type": "markdown",
      "source": [
        "## RL - DQN Model - Attack-type Classification"
      ],
      "metadata": {
        "id": "3DS778Z8I1dU"
      }
    },
    {
      "cell_type": "code",
      "source": [
        "label_mapping = {label_num: attack_name for label_num, attack_name in enumerate(LE.classes_)}\n",
        "\n",
        "# Print the label mapping\n",
        "print(\"Label Mapping:\")\n",
        "for label_num, attack_name in label_mapping.items():\n",
        "    print(f\"{label_num}: {attack_name}\")"
      ],
      "metadata": {
        "trusted": true,
        "execution": {
          "iopub.status.busy": "2024-11-14T05:16:59.227142Z",
          "iopub.execute_input": "2024-11-14T05:16:59.228027Z",
          "iopub.status.idle": "2024-11-14T05:16:59.233432Z",
          "shell.execute_reply.started": "2024-11-14T05:16:59.227988Z",
          "shell.execute_reply": "2024-11-14T05:16:59.232605Z"
        },
        "id": "5iw8q67jI1dU",
        "outputId": "cf8a5d72-fcc5-4cf9-e81b-f158d3c33ad9"
      },
      "outputs": [
        {
          "name": "stdout",
          "text": "Label Mapping:\n0: Analysis\n1: Backdoor\n2: Benign\n3: Bot\n4: Brute Force\n5: DDoS\n6: DoS\n7: Exploits\n8: Fuzzers\n9: Generic\n10: Infilteration\n11: Reconnaissance\n12: Shellcode\n13: Theft\n14: injection\n15: mitm\n16: password\n17: ransomware\n18: scanning\n19: xss\n",
          "output_type": "stream"
        }
      ],
      "execution_count": null
    },
    {
      "cell_type": "code",
      "source": [
        "!pip install shimmy>=0.2.1"
      ],
      "metadata": {
        "trusted": true,
        "execution": {
          "iopub.status.busy": "2024-11-14T05:17:00.123244Z",
          "iopub.execute_input": "2024-11-14T05:17:00.123688Z",
          "iopub.status.idle": "2024-11-14T05:17:22.866685Z",
          "shell.execute_reply.started": "2024-11-14T05:17:00.123656Z",
          "shell.execute_reply": "2024-11-14T05:17:22.865688Z"
        },
        "id": "bFNTed4eI1dU",
        "outputId": "a047178b-2c99-481e-aa67-516c2be00ed7"
      },
      "outputs": [
        {
          "name": "stdout",
          "text": "\u001b[31mERROR: pip's dependency resolver does not currently take into account all the packages that are installed. This behaviour is the source of the following dependency conflicts.\ntensorflow-io 0.21.0 requires tensorflow-io-gcs-filesystem==0.21.0, which is not installed.\nthinc 8.0.16 requires typing-extensions<4.0.0.0,>=3.7.4.1; python_version < \"3.8\", but you have typing-extensions 4.7.1 which is incompatible.\ntensorflow 2.6.4 requires absl-py~=0.10, but you have absl-py 1.0.0 which is incompatible.\ntensorflow 2.6.4 requires numpy~=1.19.2, but you have numpy 1.21.6 which is incompatible.\ntensorflow 2.6.4 requires six~=1.15.0, but you have six 1.16.0 which is incompatible.\ntensorflow 2.6.4 requires typing-extensions<3.11,>=3.7, but you have typing-extensions 4.7.1 which is incompatible.\ntensorflow 2.6.4 requires wrapt~=1.12.1, but you have wrapt 1.14.1 which is incompatible.\ntensorflow-transform 1.8.0 requires tensorflow!=2.0.*,!=2.1.*,!=2.2.*,!=2.3.*,!=2.4.*,!=2.5.*,!=2.6.*,!=2.7.*,<2.9,>=1.15.5, but you have tensorflow 2.6.4 which is incompatible.\ntensorflow-serving-api 2.8.0 requires tensorflow<3,>=2.8.0, but you have tensorflow 2.6.4 which is incompatible.\nspacy 3.2.4 requires typing-extensions<4.0.0.0,>=3.7.4; python_version < \"3.8\", but you have typing-extensions 4.7.1 which is incompatible.\nflake8 4.0.1 requires importlib-metadata<4.3; python_version < \"3.8\", but you have importlib-metadata 4.11.4 which is incompatible.\napache-beam 2.38.0 requires dill<0.3.2,>=0.3.1.1, but you have dill 0.3.5.1 which is incompatible.\napache-beam 2.38.0 requires httplib2<0.20.0,>=0.8, but you have httplib2 0.20.4 which is incompatible.\naiobotocore 2.3.2 requires botocore<1.24.22,>=1.24.21, but you have botocore 1.26.7 which is incompatible.\u001b[0m\u001b[31m\n\u001b[0m\u001b[33mWARNING: Running pip as the 'root' user can result in broken permissions and conflicting behaviour with the system package manager. It is recommended to use a virtual environment instead: https://pip.pypa.io/warnings/venv\u001b[0m\u001b[33m\n\u001b[0m",
          "output_type": "stream"
        }
      ],
      "execution_count": null
    },
    {
      "cell_type": "code",
      "source": [
        "import torch\n",
        "import torch.nn as nn\n",
        "import torch.nn.functional as F\n",
        "\n",
        "class PyTorchModel(nn.Module):\n",
        "    def __init__(self, input_dim, num_classes):\n",
        "        super(PyTorchModel, self).__init__()\n",
        "        self.fc1 = nn.Linear(input_dim, 30)\n",
        "        self.fc2 = nn.Linear(30, 35)\n",
        "        self.fc3 = nn.Linear(35, 30)\n",
        "        self.fc4 = nn.Linear(30, 25)\n",
        "        self.fc5 = nn.Linear(25, num_classes)\n",
        "\n",
        "    def forward(self, x):\n",
        "        x = F.relu(self.fc1(x))\n",
        "        x = F.relu(self.fc2(x))\n",
        "        x = F.relu(self.fc3(x))\n",
        "        x = F.relu(self.fc4(x))\n",
        "        x = self.fc5(x)  # No activation here; DQN uses raw Q-values\n",
        "        return x"
      ],
      "metadata": {
        "trusted": true,
        "execution": {
          "iopub.status.busy": "2024-11-14T05:17:30.580516Z",
          "iopub.execute_input": "2024-11-14T05:17:30.580970Z",
          "iopub.status.idle": "2024-11-14T05:17:32.129731Z",
          "shell.execute_reply.started": "2024-11-14T05:17:30.580932Z",
          "shell.execute_reply": "2024-11-14T05:17:32.128950Z"
        },
        "id": "0r7zR67kI1dU"
      },
      "outputs": [],
      "execution_count": null
    },
    {
      "cell_type": "code",
      "source": [
        "# Extract weights from the Keras model\n",
        "keras_weights = []\n",
        "for layer in model.layers:\n",
        "    weights = layer.get_weights()  # This returns a list of NumPy arrays\n",
        "    keras_weights.append(weights)"
      ],
      "metadata": {
        "trusted": true,
        "execution": {
          "iopub.status.busy": "2024-11-14T05:17:33.032321Z",
          "iopub.execute_input": "2024-11-14T05:17:33.033189Z",
          "iopub.status.idle": "2024-11-14T05:17:33.041222Z",
          "shell.execute_reply.started": "2024-11-14T05:17:33.033149Z",
          "shell.execute_reply": "2024-11-14T05:17:33.040463Z"
        },
        "id": "dBsiHO_JI1dU"
      },
      "outputs": [],
      "execution_count": null
    },
    {
      "cell_type": "code",
      "source": [
        "import numpy as np\n",
        "\n",
        "# Create an instance of the PyTorch model\n",
        "input_dim = X_train_dl.shape[1]\n",
        "num_classes = 21  # Number of classes/actions\n",
        "pytorch_model = PyTorchModel(input_dim, num_classes)\n",
        "\n",
        "# Map Keras layers to PyTorch layers\n",
        "pytorch_layers = [pytorch_model.fc1, pytorch_model.fc2, pytorch_model.fc3, pytorch_model.fc4, pytorch_model.fc5]\n",
        "\n",
        "# Assign weights\n",
        "for idx, layer in enumerate(pytorch_layers):\n",
        "    weights, biases = keras_weights[idx]\n",
        "    weights = weights.T  # Transpose weights to match PyTorch format\n",
        "    layer.weight.data = torch.from_numpy(weights).float()\n",
        "    layer.bias.data = torch.from_numpy(biases).float()"
      ],
      "metadata": {
        "trusted": true,
        "execution": {
          "iopub.status.busy": "2024-11-14T05:17:34.140313Z",
          "iopub.execute_input": "2024-11-14T05:17:34.140737Z",
          "iopub.status.idle": "2024-11-14T05:17:34.150480Z",
          "shell.execute_reply.started": "2024-11-14T05:17:34.140703Z",
          "shell.execute_reply": "2024-11-14T05:17:34.149755Z"
        },
        "id": "azmxfnIcI1dU"
      },
      "outputs": [],
      "execution_count": null
    },
    {
      "cell_type": "code",
      "source": [
        "!pip install stable-baselines3 gym"
      ],
      "metadata": {
        "trusted": true,
        "execution": {
          "iopub.status.busy": "2024-11-14T05:17:58.619984Z",
          "iopub.execute_input": "2024-11-14T05:17:58.621008Z",
          "iopub.status.idle": "2024-11-14T05:18:10.267644Z",
          "shell.execute_reply.started": "2024-11-14T05:17:58.620970Z",
          "shell.execute_reply": "2024-11-14T05:18:10.266481Z"
        },
        "id": "o9GY5oygI1dU",
        "outputId": "61df6ee8-7f1b-41cd-d8e8-da61ceb3f0ca"
      },
      "outputs": [
        {
          "name": "stdout",
          "text": "Collecting stable-baselines3\n  Downloading stable_baselines3-2.0.0-py3-none-any.whl (178 kB)\n\u001b[2K     \u001b[90m━━━━━━━━━━━━━━━━━━━━━━━━━━━━━━━━━━━━━━━\u001b[0m \u001b[32m178.4/178.4 kB\u001b[0m \u001b[31m9.2 MB/s\u001b[0m eta \u001b[36m0:00:00\u001b[0m\n\u001b[?25hRequirement already satisfied: gym in /opt/conda/lib/python3.7/site-packages (0.23.1)\nRequirement already satisfied: cloudpickle in /opt/conda/lib/python3.7/site-packages (from stable-baselines3) (2.0.0)\nRequirement already satisfied: torch>=1.11 in /opt/conda/lib/python3.7/site-packages (from stable-baselines3) (1.11.0)\nRequirement already satisfied: typing-extensions<5,>=4.0 in /opt/conda/lib/python3.7/site-packages (from stable-baselines3) (4.7.1)\nRequirement already satisfied: pandas in /opt/conda/lib/python3.7/site-packages (from stable-baselines3) (1.3.5)\nRequirement already satisfied: numpy>=1.20 in /opt/conda/lib/python3.7/site-packages (from stable-baselines3) (1.21.6)\nRequirement already satisfied: gymnasium==0.28.1 in /opt/conda/lib/python3.7/site-packages (from stable-baselines3) (0.28.1)\nRequirement already satisfied: matplotlib in /opt/conda/lib/python3.7/site-packages (from stable-baselines3) (3.5.2)\nRequirement already satisfied: farama-notifications>=0.0.1 in /opt/conda/lib/python3.7/site-packages (from gymnasium==0.28.1->stable-baselines3) (0.0.4)\nRequirement already satisfied: importlib-metadata>=4.8.0 in /opt/conda/lib/python3.7/site-packages (from gymnasium==0.28.1->stable-baselines3) (4.11.4)\nRequirement already satisfied: jax-jumpy>=1.0.0 in /opt/conda/lib/python3.7/site-packages (from gymnasium==0.28.1->stable-baselines3) (1.0.0)\nRequirement already satisfied: gym-notices>=0.0.4 in /opt/conda/lib/python3.7/site-packages (from gym) (0.0.6)\nRequirement already satisfied: zipp>=0.5 in /opt/conda/lib/python3.7/site-packages (from importlib-metadata>=4.8.0->gymnasium==0.28.1->stable-baselines3) (3.8.0)\nRequirement already satisfied: cycler>=0.10 in /opt/conda/lib/python3.7/site-packages (from matplotlib->stable-baselines3) (0.11.0)\nRequirement already satisfied: kiwisolver>=1.0.1 in /opt/conda/lib/python3.7/site-packages (from matplotlib->stable-baselines3) (1.4.2)\nRequirement already satisfied: packaging>=20.0 in /opt/conda/lib/python3.7/site-packages (from matplotlib->stable-baselines3) (21.3)\nRequirement already satisfied: pyparsing>=2.2.1 in /opt/conda/lib/python3.7/site-packages (from matplotlib->stable-baselines3) (3.0.9)\nRequirement already satisfied: fonttools>=4.22.0 in /opt/conda/lib/python3.7/site-packages (from matplotlib->stable-baselines3) (4.33.3)\nRequirement already satisfied: pillow>=6.2.0 in /opt/conda/lib/python3.7/site-packages (from matplotlib->stable-baselines3) (9.1.0)\nRequirement already satisfied: python-dateutil>=2.7 in /opt/conda/lib/python3.7/site-packages (from matplotlib->stable-baselines3) (2.8.2)\nRequirement already satisfied: pytz>=2017.3 in /opt/conda/lib/python3.7/site-packages (from pandas->stable-baselines3) (2022.1)\nRequirement already satisfied: six>=1.5 in /opt/conda/lib/python3.7/site-packages (from python-dateutil>=2.7->matplotlib->stable-baselines3) (1.16.0)\nInstalling collected packages: stable-baselines3\nSuccessfully installed stable-baselines3-2.0.0\n\u001b[33mWARNING: Running pip as the 'root' user can result in broken permissions and conflicting behaviour with the system package manager. It is recommended to use a virtual environment instead: https://pip.pypa.io/warnings/venv\u001b[0m\u001b[33m\n\u001b[0m",
          "output_type": "stream"
        }
      ],
      "execution_count": null
    },
    {
      "cell_type": "code",
      "source": [
        "import gym\n",
        "from gym import spaces\n",
        "import numpy as np"
      ],
      "metadata": {
        "trusted": true,
        "execution": {
          "iopub.status.busy": "2024-11-14T05:18:43.287424Z",
          "iopub.execute_input": "2024-11-14T05:18:43.287802Z",
          "iopub.status.idle": "2024-11-14T05:18:43.291896Z",
          "shell.execute_reply.started": "2024-11-14T05:18:43.287773Z",
          "shell.execute_reply": "2024-11-14T05:18:43.291024Z"
        },
        "id": "TnuzMZokI1dU"
      },
      "outputs": [],
      "execution_count": null
    },
    {
      "cell_type": "code",
      "source": [
        "from stable_baselines3.common.torch_layers import BaseFeaturesExtractor\n",
        "\n",
        "class CustomFeatureExtractor(BaseFeaturesExtractor):\n",
        "    def __init__(self, observation_space):\n",
        "        super(CustomFeatureExtractor, self).__init__(observation_space, features_dim=25)\n",
        "        # Use the pre-trained model up to the last hidden layer\n",
        "        self.model = nn.Sequential(\n",
        "            pytorch_model.fc1,\n",
        "            nn.ReLU(),\n",
        "            pytorch_model.fc2,\n",
        "            nn.ReLU(),\n",
        "            pytorch_model.fc3,\n",
        "            nn.ReLU(),\n",
        "            pytorch_model.fc4,\n",
        "            nn.ReLU(),\n",
        "        )\n",
        "\n",
        "    def forward(self, observations):\n",
        "        x = observations\n",
        "        # Ensure the input is a torch tensor\n",
        "        if not isinstance(x, torch.Tensor):\n",
        "            x = torch.tensor(x, dtype=torch.float32)\n",
        "        return self.model(x)"
      ],
      "metadata": {
        "trusted": true,
        "execution": {
          "iopub.status.busy": "2024-11-14T05:18:44.203658Z",
          "iopub.execute_input": "2024-11-14T05:18:44.204031Z",
          "iopub.status.idle": "2024-11-14T05:18:44.211645Z",
          "shell.execute_reply.started": "2024-11-14T05:18:44.204002Z",
          "shell.execute_reply": "2024-11-14T05:18:44.210817Z"
        },
        "id": "q9P8glzGI1dV"
      },
      "outputs": [],
      "execution_count": null
    },
    {
      "cell_type": "code",
      "source": [
        "class IntrusionDetectionEnv(gym.Env):\n",
        "    def __init__(self, X, y):\n",
        "        super(IntrusionDetectionEnv, self).__init__()\n",
        "        # Convert X and y to numpy arrays for integer indexing\n",
        "        self.X = np.array(X)\n",
        "        self.y = np.array(y).astype(int).flatten()\n",
        "        self.current_step = 0\n",
        "        self.action_space = spaces.Discrete(20)  # Assuming 21 possible classes\n",
        "        self.observation_space = spaces.Box(low=-np.inf, high=np.inf, shape=(self.X.shape[1],), dtype=np.float32)\n",
        "\n",
        "    def reset(self):\n",
        "        self.current_step = 0\n",
        "        # Add an extra dimension to the observation to match the expected shape\n",
        "        return np.array([self.X[self.current_step]], dtype=np.float32)\n",
        "\n",
        "    def step(self, action):\n",
        "        correct_action = int(self.y[self.current_step])\n",
        "        action = int(action)\n",
        "        # Apply your reward policy\n",
        "        if action == correct_action:\n",
        "            reward = 2\n",
        "        elif correct_action != 0 and action == 0:\n",
        "            reward = -3\n",
        "        else:\n",
        "            reward = -1\n",
        "        self.current_step += 1\n",
        "        done = self.current_step >= len(self.y)\n",
        "        if not done:\n",
        "            observation = self.X[self.current_step].astype(np.float32)\n",
        "        else:\n",
        "            observation = np.zeros(self.X.shape[1], dtype=np.float32)\n",
        "        # Return the correct action in the info dictionary\n",
        "        info = {'correct_action': correct_action}\n",
        "        return observation, reward, done, info\n",
        "\n",
        "    def seed(self, seed=None):\n",
        "        np.random.seed(seed)\n",
        "\n",
        "    def render(self, mode='human'):\n",
        "        pass"
      ],
      "metadata": {
        "trusted": true,
        "execution": {
          "iopub.status.busy": "2024-11-14T05:24:46.732154Z",
          "iopub.execute_input": "2024-11-14T05:24:46.732613Z",
          "iopub.status.idle": "2024-11-14T05:24:46.745335Z",
          "shell.execute_reply.started": "2024-11-14T05:24:46.732580Z",
          "shell.execute_reply": "2024-11-14T05:24:46.744361Z"
        },
        "id": "PQuHXszII1dV"
      },
      "outputs": [],
      "execution_count": null
    },
    {
      "cell_type": "code",
      "source": [
        "from stable_baselines3.dqn.policies import DQNPolicy\n",
        "\n",
        "class CustomDQNPolicy(DQNPolicy):\n",
        "    def __init__(self, observation_space, action_space, lr_schedule, **kwargs):\n",
        "        # Define the network architecture to match your pre-trained model\n",
        "        net_arch = [30, 35, 30, 25]\n",
        "        super(CustomDQNPolicy, self).__init__(\n",
        "            observation_space,\n",
        "            action_space,\n",
        "            lr_schedule,\n",
        "            net_arch=net_arch,\n",
        "            features_extractor_class=CustomFeatureExtractor,\n",
        "            features_extractor_kwargs={},\n",
        "            **kwargs\n",
        "        )"
      ],
      "metadata": {
        "trusted": true,
        "execution": {
          "iopub.status.busy": "2024-11-14T05:24:50.164193Z",
          "iopub.execute_input": "2024-11-14T05:24:50.164592Z",
          "iopub.status.idle": "2024-11-14T05:24:50.170958Z",
          "shell.execute_reply.started": "2024-11-14T05:24:50.164562Z",
          "shell.execute_reply": "2024-11-14T05:24:50.170041Z"
        },
        "id": "VaYK7bW7I1dV"
      },
      "outputs": [],
      "execution_count": null
    },
    {
      "cell_type": "code",
      "source": [
        "from stable_baselines3 import DQN\n",
        "from stable_baselines3.common.env_util import make_vec_env\n",
        "\n",
        "# Wrap the environment for training\n",
        "env = make_vec_env(lambda: IntrusionDetectionEnv(X_train_dl, y_train_dl), n_envs=1)\n",
        "\n",
        "# Define and train the DQN model using the custom policy\n",
        "model_dqn = DQN(\n",
        "    policy=CustomDQNPolicy,\n",
        "    env=env,\n",
        "    learning_rate=0.001,          # Learning Rate (α)\n",
        "    buffer_size=100000,           # Replay Memory Size\n",
        "    learning_starts=1000,         # Number of steps before training starts\n",
        "    batch_size=64,                # Batch Size\n",
        "    gamma=0.99,                   # Discount Factor (γ)\n",
        "    train_freq=1,                 # Train the model every step\n",
        "    gradient_steps=1,             # Number of gradient steps\n",
        "    target_update_interval=1000,  # Update the target network every 1000 steps\n",
        "    exploration_initial_eps=1.0,  # Initial exploration rate (ε)\n",
        "    exploration_final_eps=0.01,   # Final exploration rate (ε)\n",
        "    exploration_fraction=0.5,     # Fraction of training where ε decays\n",
        "    verbose=2\n",
        ")\n",
        "\n",
        "\n",
        "# Optionally, copy the last layer weights from your pre-trained model to the DQN model's q_net\n",
        "with torch.no_grad():\n",
        "    # Access the last layer of the q_net.q_net Sequential module\n",
        "    model_dqn.q_net.q_net[-1].weight.data.copy_(pytorch_model.fc5.weight.data)\n",
        "    model_dqn.q_net.q_net[-1].bias.data.copy_(pytorch_model.fc5.bias.data)\n",
        "\n",
        "total_timesteps = 50000\n",
        "print(total_timesteps)"
      ],
      "metadata": {
        "trusted": true,
        "execution": {
          "iopub.status.busy": "2024-11-14T05:24:51.752279Z",
          "iopub.execute_input": "2024-11-14T05:24:51.752693Z",
          "iopub.status.idle": "2024-11-14T05:24:51.784407Z",
          "shell.execute_reply.started": "2024-11-14T05:24:51.752661Z",
          "shell.execute_reply": "2024-11-14T05:24:51.783497Z"
        },
        "id": "OSZPp2HnI1dV",
        "outputId": "c6b01735-1642-42ed-bbc0-173f33ca85f2"
      },
      "outputs": [
        {
          "name": "stdout",
          "text": "Using cuda device\n50000\n",
          "output_type": "stream"
        }
      ],
      "execution_count": null
    },
    {
      "cell_type": "code",
      "source": [
        "# Train the DQN model\n",
        "model_dqn.learn(total_timesteps=total_timesteps, progress_bar=True)"
      ],
      "metadata": {
        "trusted": true,
        "execution": {
          "iopub.status.busy": "2024-11-14T05:24:53.624278Z",
          "iopub.execute_input": "2024-11-14T05:24:53.625194Z"
        },
        "id": "Fpd7RhwHI1dV",
        "outputId": "98b089c4-e5db-45ec-d1d5-2b0cb8d1747a"
      },
      "outputs": [
        {
          "output_type": "display_data",
          "data": {
            "text/plain": "\u001b[35m  29%\u001b[0m \u001b[38;2;249;38;114m━━━━━━━━━━━\u001b[0m\u001b[38;5;237m╺\u001b[0m\u001b[38;5;237m━━━━━━━━━━━━━━━━━━━━━━━━━━━\u001b[0m \u001b[32m14,567/50,000 \u001b[0m [ \u001b[33m0:01:27\u001b[0m < \u001b[36m0:03:56\u001b[0m , \u001b[31m150 it/s\u001b[0m ]\n",
            "text/html": "<pre style=\"white-space:pre;overflow-x:auto;line-height:normal;font-family:Menlo,'DejaVu Sans Mono',consolas,'Courier New',monospace\"><span style=\"color: #800080; text-decoration-color: #800080\">  29%</span> <span style=\"color: #f92672; text-decoration-color: #f92672\">━━━━━━━━━━━</span><span style=\"color: #3a3a3a; text-decoration-color: #3a3a3a\">╺━━━━━━━━━━━━━━━━━━━━━━━━━━━</span> <span style=\"color: #008000; text-decoration-color: #008000\">14,567/50,000 </span> [ <span style=\"color: #808000; text-decoration-color: #808000\">0:01:27</span> &lt; <span style=\"color: #008080; text-decoration-color: #008080\">0:03:56</span> , <span style=\"color: #800000; text-decoration-color: #800000\">150 it/s</span> ]\n</pre>\n"
          },
          "metadata": {}
        }
      ],
      "execution_count": null
    },
    {
      "cell_type": "code",
      "source": [
        "action_labels = {\n",
        "    0: \"Analysis\",\n",
        "    1: \"Backdoor\",\n",
        "    2: \"Benign\",\n",
        "    3: \"Bot\",\n",
        "    4: \"Brute Force\",\n",
        "    5: \"DDoS\",\n",
        "    6: \"DoS\",\n",
        "    7: \"Exploits\",\n",
        "    8: \"Fuzzers\",\n",
        "    9: \"Generic\",\n",
        "    10: \"Infiltration\",\n",
        "    11: \"Reconnaissance\",\n",
        "    12: \"Shellcode\",\n",
        "    13: \"Theft\",\n",
        "    14: \"Worms\",\n",
        "    15: \"Injection\",\n",
        "    16: \"MITM\",\n",
        "    17: \"Password\",\n",
        "    18: \"Ransomware\",\n",
        "    19: \"Scanning\",\n",
        "    20: \"XSS\"\n",
        "}\n",
        "\n",
        "# Initialize the test environment\n",
        "test_env = IntrusionDetectionEnv(X_test_dl, y_test_dl)\n",
        "\n",
        "# Reset the environment to start at the beginning of the test set\n",
        "obs = test_env.reset()\n",
        "done = False\n",
        "total_reward = 0  # To track cumulative reward over the test set\n",
        "actions_taken = []  # Track each action taken by the model for analysis\n",
        "true_labels = []    # Track true labels for evaluation\n",
        "\n",
        "print(\"Evaluation Results:\")\n",
        "while not done:\n",
        "    # Get model's action (prediction) for the current observation\n",
        "    action, _states = model_dqn.predict(obs, deterministic=True)\n",
        "    action = int(action)\n",
        "    actions_taken.append(action)\n",
        "    true_label = test_env.y[test_env.current_step]\n",
        "    true_labels.append(true_label)\n",
        "\n",
        "    # Take the action in the environment and observe results\n",
        "    obs, reward, done, _ = test_env.step(action)\n",
        "    total_reward += reward  # Accumulate rewards\n",
        "\n",
        "# Display the cumulative reward over the test set\n",
        "print(\"\\nTotal reward over the test set:\", total_reward)\n",
        "\n",
        "# Compute precision, recall, and f1-score\n",
        "report = classification_report(y_test_dl, actions_taken, target_names=[action_labels[i] for i in range(len(action_labels))])\n",
        "print(\"\\nClassification Report:\\n\", report)"
      ],
      "metadata": {
        "trusted": true,
        "execution": {
          "iopub.status.busy": "2024-11-14T05:21:58.717539Z",
          "iopub.execute_input": "2024-11-14T05:21:58.718501Z",
          "iopub.status.idle": "2024-11-14T05:22:13.429906Z",
          "shell.execute_reply.started": "2024-11-14T05:21:58.718455Z",
          "shell.execute_reply": "2024-11-14T05:22:13.428672Z"
        },
        "id": "rDdRbvvgI1dV"
      },
      "outputs": [],
      "execution_count": null
    },
    {
      "cell_type": "markdown",
      "source": [
        "### MVC Output Classifier"
      ],
      "metadata": {
        "id": "-cSmFDddOGcR"
      }
    },
    {
      "cell_type": "code",
      "source": [
        "### from sklearn.ensemble import VotingClassifier\n",
        "from scipy.stats import mode\n",
        "\n",
        "voting_clf = VotingClassifier(\n",
        "    estimators=[(name, model) for name, model in models_1.items()],\n",
        "    voting='soft', # or 'hard' for majority voting\n",
        "    weights=[modelAcc_1[name] for name in models_1.keys()],\n",
        "    verbose=True\n",
        ")\n",
        "\n",
        "print(\"Training Voting Classifier...\")\n",
        "voting_clf.fit(X_train_scaled_1, y_train_1)\n",
        "print(\"Voting Classifier trained.\")\n",
        "voting_preds = voting_clf.predict(X_test_scaled_1)\n",
        "print(\"Calculating the Accuracy of the Model.\")\n",
        "voting_accuracy = accuracy_score(y_test, voting_preds)\n",
        "print(f\"Voting Classifier Accuracy: {voting_accuracy:.4f}\")\n",
        "for name, acc in modelAcc_1.items():\n",
        "    print(f\"{name} Accuracy: {acc:.4f}\")\n",
        "print(f\"Voting Classifier Accuracy: {voting_accuracy:.4f}\")\n",
        "# Convert predictions to a 2D array\n",
        "predictions = np.array(list(preds_1.values()))\n",
        "\n",
        "# Transpose to have shape (n_samples, n_models)\n",
        "predictions = predictions.T\n",
        "\n",
        "# Compute the mode (majority vote) for each sample\n",
        "majority_votes, counts = mode(predictions, axis=1)\n",
        "\n",
        "# Flatten the array to get the final predictions\n",
        "mvc_preds = majority_votes.flatten()\n",
        "# Calculate accuracy\n",
        "mvc_accuracy = accuracy_score(y_test_1, mvc_preds)\n",
        "print(f\"MVC Ensemble Accuracy: {mvc_accuracy:.4f}\")\n",
        "\n",
        "# Optionally, compare with individual models\n",
        "for name, acc in modelAcc_1.items():\n",
        "    print(f\"{name} Accuracy: {acc:.4f}\")\n",
        "\n",
        "print(f\"MVC Ensemble Accuracy: {mvc_accuracy:.4f}\")\n"
      ],
      "metadata": {
        "id": "grZE1O1HOI_t"
      },
      "execution_count": null,
      "outputs": []
    }
  ]
}